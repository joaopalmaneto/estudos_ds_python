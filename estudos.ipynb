{
 "cells": [
  {
   "cell_type": "markdown",
   "metadata": {},
   "source": [
    "# Diretorio e pacotes"
   ]
  },
  {
   "cell_type": "code",
   "execution_count": null,
   "metadata": {},
   "outputs": [],
   "source": [
    "#muda diretorio atual\n",
    "from os import chdir\n",
    "chdir(\"\")\n"
   ]
  },
  {
   "cell_type": "code",
   "execution_count": 1,
   "metadata": {},
   "outputs": [],
   "source": [
    "import math, \\\n",
    "    numpy as np, \\\n",
    "    pandas as pd, \\\n",
    "    scipy as sp, \\\n",
    "    statsmodels.api as sm, \\\n",
    "    matplotlib as mpl, \\\n",
    "    seaborn as sns, \\\n",
    "    sklearn as sk, \\\n",
    "    sympy as sym\n"
   ]
  },
  {
   "cell_type": "markdown",
   "metadata": {},
   "source": [
    "# 26/01/2019"
   ]
  },
  {
   "cell_type": "code",
   "execution_count": null,
   "metadata": {},
   "outputs": [],
   "source": [
    "print(\"hello world\")"
   ]
  },
  {
   "cell_type": "markdown",
   "metadata": {},
   "source": [
    "**Criando e convertendo variaveis**"
   ]
  },
  {
   "cell_type": "code",
   "execution_count": null,
   "metadata": {},
   "outputs": [],
   "source": [
    "inteiro = 1\n",
    "real = 4.2\n",
    "caractere = \"a\"\n",
    "logico = True\n",
    "lista = [1, \"a\", 4.2, True]\n",
    "tupla = (2, \"b\")\n",
    "\n",
    "print(inteiro, real, caractere, logico, \" \", lista[1], type(lista), tupla)\n",
    "str(inteiro)"
   ]
  },
  {
   "cell_type": "markdown",
   "metadata": {},
   "source": [
    "**Strings com aspas triplas**"
   ]
  },
  {
   "cell_type": "code",
   "execution_count": null,
   "metadata": {},
   "outputs": [],
   "source": [
    "print(\"\"\" a vaca d´água faz \"mu\" mas ninguém ouve\"\"\")"
   ]
  },
  {
   "cell_type": "code",
   "execution_count": null,
   "metadata": {},
   "outputs": [],
   "source": [
    "print(''' rupi\n",
    "kaur''')"
   ]
  },
  {
   "cell_type": "markdown",
   "metadata": {},
   "source": [
    "**Aritmetica e Lógica**"
   ]
  },
  {
   "cell_type": "code",
   "execution_count": null,
   "metadata": {
    "scrolled": false
   },
   "outputs": [],
   "source": [
    "\n",
    "16 / 3"
   ]
  },
  {
   "cell_type": "code",
   "execution_count": null,
   "metadata": {},
   "outputs": [],
   "source": [
    "#exponenciar\n",
    "5 ** 2"
   ]
  },
  {
   "cell_type": "code",
   "execution_count": null,
   "metadata": {},
   "outputs": [],
   "source": [
    "#parte inteira da divisão\n",
    "3//2"
   ]
  },
  {
   "cell_type": "code",
   "execution_count": null,
   "metadata": {},
   "outputs": [],
   "source": [
    "#resto\n",
    "3 % 2"
   ]
  },
  {
   "cell_type": "code",
   "execution_count": 1,
   "metadata": {},
   "outputs": [
    {
     "data": {
      "text/plain": [
       "True"
      ]
     },
     "execution_count": 1,
     "metadata": {},
     "output_type": "execute_result"
    }
   ],
   "source": [
    "#Ordem de execução: not, depois and, depois or\n",
    "False or not False and True"
   ]
  },
  {
   "cell_type": "code",
   "execution_count": null,
   "metadata": {},
   "outputs": [],
   "source": [
    "True and not True and True"
   ]
  },
  {
   "cell_type": "code",
   "execution_count": null,
   "metadata": {},
   "outputs": [],
   "source": [
    "False or True and False"
   ]
  },
  {
   "cell_type": "markdown",
   "metadata": {},
   "source": [
    "# 27/01/2019"
   ]
  },
  {
   "cell_type": "markdown",
   "metadata": {},
   "source": [
    "**Iterando uma condição por um vetor**"
   ]
  },
  {
   "cell_type": "code",
   "execution_count": null,
   "metadata": {},
   "outputs": [],
   "source": [
    "vetor_num = [-1, 2, 12]\n",
    "#há alguma nota menor que 0 ou maior que 10?\n",
    "any(num < 0 or num > 10 for num in vetor_num)\n",
    "\n",
    "#todas as notas são maiores que 0?\n",
    "all(num > 0 for num in vetor_num)"
   ]
  },
  {
   "cell_type": "markdown",
   "metadata": {},
   "source": [
    "**Est. de decisão e funções**"
   ]
  },
  {
   "cell_type": "code",
   "execution_count": null,
   "metadata": {},
   "outputs": [],
   "source": [
    "def situacao_aluno(notas = None): \n",
    "    if notas == None:\n",
    "        print(\"valor nulo\")\n",
    "    elif any(nota < 0 or nota > 10 for nota in notas):\n",
    "        print(\"valor invalido\")\n",
    "    elif mean(notas) >= 5:\n",
    "        print(\"aprovado\")\n",
    "        return mean(notas)\n",
    "    else:\n",
    "        print(\"reprovado\")\n",
    "        return mean(notas)\n",
    "        "
   ]
  },
  {
   "cell_type": "markdown",
   "metadata": {},
   "source": [
    "**Importando funções e pacotes** "
   ]
  },
  {
   "cell_type": "code",
   "execution_count": null,
   "metadata": {},
   "outputs": [],
   "source": [
    "from statistics import mean\n",
    "notas = [1,2,3.4]\n",
    "situacao_aluno(notas)\n",
    "\n",
    "import statistics\n",
    "statistics.mean(notas)"
   ]
  },
  {
   "cell_type": "markdown",
   "metadata": {},
   "source": [
    "# 28/01/2020"
   ]
  },
  {
   "cell_type": "markdown",
   "metadata": {},
   "source": [
    "**Funções nativas úteis**\n"
   ]
  },
  {
   "cell_type": "code",
   "execution_count": null,
   "metadata": {
    "scrolled": false
   },
   "outputs": [],
   "source": [
    "# **NOTA : para acessar a última posição de uma lista ou tupla, utilize len(lista) -1, \n",
    "#pois começamos a contar do 0 **\n",
    "\n",
    "lista = range(0, 10, 1)\n",
    "print( min(lista), max(lista), len(lista), pow(lista[2], lista[3]))\n",
    "\n",
    "real = -5.678\n",
    "abs(round(real, 2))\n"
   ]
  },
  {
   "cell_type": "markdown",
   "metadata": {},
   "source": [
    "**Métodos e outras operações com arrays**"
   ]
  },
  {
   "cell_type": "code",
   "execution_count": null,
   "metadata": {},
   "outputs": [],
   "source": [
    "#duas listas\n",
    "nomes = [\"João\", \"Ana\", \"Maria\"]\n",
    "idades = [18, 28, 49]\n",
    "\n",
    "#ordenando\n",
    "idades.sort(reverse = True)\n",
    "print(idades)\n",
    "\n",
    "#lista de listas\n",
    "pessoas = [nomes, idades]\n",
    "\n",
    "#adicionando uma outra lista como atributo \n",
    "pesos = [65.3, 74.4, 80.0]\n",
    "pessoas.append(pesos)\n",
    "print(pessoas)\n",
    "\n",
    "#criando substrato \n",
    "pesos = pessoas[-1]\n",
    "print(pesos)"
   ]
  },
  {
   "cell_type": "markdown",
   "metadata": {},
   "source": [
    "# 30/01/2020"
   ]
  },
  {
   "cell_type": "markdown",
   "metadata": {},
   "source": [
    "**Dicionarios**"
   ]
  },
  {
   "cell_type": "code",
   "execution_count": null,
   "metadata": {},
   "outputs": [],
   "source": [
    "dicio = {'nome': 'João', 'idade': 23, 'bool' : True}\n",
    "print(dicio.get('bool'))"
   ]
  },
  {
   "cell_type": "markdown",
   "metadata": {},
   "source": [
    "**Estruturas de repetição e numeros pseudo-aleatorios**"
   ]
  },
  {
   "cell_type": "code",
   "execution_count": null,
   "metadata": {},
   "outputs": [],
   "source": [
    "from random import randrange\n",
    "\n",
    "\n",
    "for n in range(0, 10):\n",
    "    if n == 0:\n",
    "        aleatorio_intervalo = [] \n",
    "    aleatorio_intervalo.append(randrange(0, stop = 10, step = 1))\n",
    "    \n",
    "print(aleatorio_intervalo)"
   ]
  },
  {
   "cell_type": "code",
   "execution_count": null,
   "metadata": {},
   "outputs": [],
   "source": [
    "from random import choices, sample\n",
    "\n",
    "#repete numeros\n",
    "print(choices(population = aleatorio_intervalo, k = 5), end = '\\n')\n",
    "\n",
    "#não repete\n",
    "print(sample(population = aleatorio_intervalo, k = 5))"
   ]
  },
  {
   "cell_type": "markdown",
   "metadata": {},
   "source": [
    "# 01/02/2020"
   ]
  },
  {
   "cell_type": "markdown",
   "metadata": {},
   "source": [
    "**Importação de bases e regressão linear simples**"
   ]
  },
  {
   "cell_type": "code",
   "execution_count": null,
   "metadata": {},
   "outputs": [],
   "source": [
    "#importar csv\n",
    "dados = pd.read_csv(\"1.01. Simple linear regression.csv\")"
   ]
  },
  {
   "cell_type": "code",
   "execution_count": null,
   "metadata": {},
   "outputs": [],
   "source": [
    "#definir variáveis para y = b0 + b1x1\n",
    "y = dados['GPA']\n",
    "x1 = dados['SAT']\n",
    "\n",
    "#adiciona a constante b0 \n",
    "x = sm.add_constant(x1)\n",
    "\n",
    "#computar regressão\n",
    "resultado = sm.OLS(y,x).fit()\n",
    "resultado.summary()\n"
   ]
  },
  {
   "cell_type": "markdown",
   "metadata": {},
   "source": [
    "# 10/02/2020"
   ]
  },
  {
   "cell_type": "markdown",
   "metadata": {},
   "source": [
    "**Regressão múltipla**"
   ]
  },
  {
   "cell_type": "code",
   "execution_count": null,
   "metadata": {},
   "outputs": [],
   "source": [
    "dados = pd.read_csv(\"1.02. Multiple linear regression.csv\")\n",
    "dados.describe()"
   ]
  },
  {
   "cell_type": "code",
   "execution_count": null,
   "metadata": {},
   "outputs": [],
   "source": [
    "#mesmo esquema da regressão simples, \n",
    "#passando dessa vez um dataframe para x1, com as variáveis independentes\n",
    "\n",
    "y = dados['GPA']\n",
    "x1 = dados[['SAT', 'Rand 1,2,3']]\n",
    "\n",
    "x = sm.add_constant(x1)\n",
    "resultado = sm.OLS(y, x).fit()\n",
    "\n",
    "resultado.summary()"
   ]
  },
  {
   "cell_type": "markdown",
   "metadata": {},
   "source": [
    "# 21/02/2020\n"
   ]
  },
  {
   "cell_type": "markdown",
   "metadata": {},
   "source": [
    "**Métodos para manipular strings**"
   ]
  },
  {
   "cell_type": "code",
   "execution_count": null,
   "metadata": {},
   "outputs": [],
   "source": [
    "string = \"paca tatu, cotia não\"\n",
    "\n",
    "string.capitalize()"
   ]
  },
  {
   "cell_type": "code",
   "execution_count": null,
   "metadata": {},
   "outputs": [],
   "source": [
    "string.upper()"
   ]
  },
  {
   "cell_type": "code",
   "execution_count": null,
   "metadata": {},
   "outputs": [],
   "source": [
    "string.lower()"
   ]
  },
  {
   "cell_type": "code",
   "execution_count": null,
   "metadata": {},
   "outputs": [],
   "source": [
    "#fatia a string em cada ocorrência do parâmetro fornecido\n",
    "string.split(\" \")"
   ]
  },
  {
   "cell_type": "code",
   "execution_count": null,
   "metadata": {},
   "outputs": [],
   "source": [
    "#retorna a posição na string onde seja encontrado o parãmetro fornecido \n",
    "string.find(\",\")"
   ]
  },
  {
   "cell_type": "code",
   "execution_count": null,
   "metadata": {},
   "outputs": [],
   "source": [
    "#returna o numero de ocorrencias de um caractere numa string\n",
    "string.count(\"o\")"
   ]
  },
  {
   "cell_type": "code",
   "execution_count": null,
   "metadata": {},
   "outputs": [],
   "source": [
    "#centraliza a string entre duas margens que podem ser preenchidas com caracteres\n",
    "string.center(50, '#')"
   ]
  },
  {
   "cell_type": "code",
   "execution_count": null,
   "metadata": {},
   "outputs": [],
   "source": [
    "#retorna True se todos os caracteres pertencem ao alfabeto - há diversas funções análogas para \n",
    "#outras deteccções\n",
    "string.isalpha()"
   ]
  },
  {
   "cell_type": "code",
   "execution_count": null,
   "metadata": {},
   "outputs": [],
   "source": [
    "#remove espaço em branco nas bordas da string\n",
    "\n",
    "string = \" a b \"\n",
    "string.strip()\n"
   ]
  },
  {
   "cell_type": "markdown",
   "metadata": {},
   "source": [
    "**Indexando lista alinhada**"
   ]
  },
  {
   "cell_type": "code",
   "execution_count": null,
   "metadata": {},
   "outputs": [],
   "source": [
    "lista = [[1,2,3]]\n",
    "\n",
    "lista[0][2]"
   ]
  },
  {
   "cell_type": "markdown",
   "metadata": {},
   "source": [
    "# 24/02/2020"
   ]
  },
  {
   "cell_type": "markdown",
   "metadata": {},
   "source": [
    "**Input e placeholders**"
   ]
  },
  {
   "cell_type": "code",
   "execution_count": null,
   "metadata": {},
   "outputs": [],
   "source": [
    "nome = input('Digite o seu nome:')\n",
    "a = \"João\"\n",
    "\n",
    "if nome != \"João\":\n",
    "    print('''Eu me chamo %s, pois é, fiz a ligação... e ela disse \"Alô %s\" ''' %(nome, a))\n"
   ]
  },
  {
   "cell_type": "markdown",
   "metadata": {},
   "source": [
    "# 26/02/2020"
   ]
  },
  {
   "cell_type": "markdown",
   "metadata": {},
   "source": [
    "**funções, métodos e estruturas lambda**"
   ]
  },
  {
   "cell_type": "code",
   "execution_count": null,
   "metadata": {},
   "outputs": [],
   "source": [
    "import sympy as sym\n",
    "#Definição de funções para cálculo diferencial de uma variável\n",
    "\n",
    "\n",
    "#1: deriva equações de uma variável, recebidas pelo parâmetro eq como strings. Retorn um símbolo\n",
    "eq = 'x**3'\n",
    "\n",
    "def derUmaVar(fx):\n",
    "    \n",
    "    posX = fx.find('x')\n",
    "    x = Symbol(fx[posX])\n",
    "\n",
    "    return sym.diff(fx, x)\n",
    "\n",
    "#2: recolhe o resultado da função derUmaVar e estuda pontos criticos e concavidade da função\n",
    "def concFunc(fx):\n",
    "    der = derUmaVar(fx)\n",
    "    zeros = solve(der)\n",
    "    cresc = solve(der > 0)\n",
    "    decres = solve(der < 0)\n",
    "        \n",
    "    segDer = sym.diff(der)\n",
    "    \n",
    "    inflex = []\n",
    "    minLoc = []\n",
    "    maxLoc = []\n",
    "    \n",
    "    for i in zeros:\n",
    "        if segDer.subs(x, i) == 0:\n",
    "            inflex.append(i)\n",
    "        elif segDer.subs(x, i) > 0:\n",
    "            minLoc.append(i)\n",
    "        else:\n",
    "            maxLoc.append(i)\n",
    "        \n",
    "        \n",
    "    results = {\"primeira derivada\": der, 'segunda derivada': segDer, 'pontos criticos': zeros, \n",
    "                  'segmentos crescentes': cresc, 'segmentos descrescentes': decres, \n",
    "                  'pontos de inflexao': inflex, 'minimo local': minLoc, 'maximo local': maxLoc}\n",
    "    \n",
    "    return results\n",
    "\n",
    "    "
   ]
  },
  {
   "cell_type": "code",
   "execution_count": null,
   "metadata": {},
   "outputs": [],
   "source": [
    "#testando a função acima\n",
    "eq = 'x**3'\n",
    "resultados = concFunc(eq)\n",
    "resultados\n"
   ]
  },
  {
   "cell_type": "code",
   "execution_count": null,
   "metadata": {},
   "outputs": [],
   "source": [
    "#função anonima que calcula o valor em Fahrenheit para cada valor em Celsius \n",
    "Celsius = [39.2, 36.5, 37.3, 37.8]\n",
    "Fahrenheit = map(lambda temp: temp * 1.8 + 32, Celsius)\n",
    "print (list(Fahrenheit))"
   ]
  },
  {
   "cell_type": "markdown",
   "metadata": {},
   "source": [
    "# 29/02/2020"
   ]
  },
  {
   "cell_type": "markdown",
   "metadata": {},
   "source": [
    "**Tratamento de arquivos**"
   ]
  },
  {
   "cell_type": "code",
   "execution_count": null,
   "metadata": {},
   "outputs": [],
   "source": [
    "### JEITO LENTO > funções built-in\n",
    "\n",
    "\n",
    "#importa o arquivo para leitura\n",
    "arq = open(\"DSA/Arquivos/teste1.txt\", \"r\")\n",
    "\n",
    "#retorna o conteúdo\n",
    "arq.read()\n",
    "\n",
    "#aponta para uma posição no arquivo\n",
    "arq.seek(4)\n",
    "\n",
    "\n",
    "#importa para escrita \n",
    "arq = open(\"DSA/Arquivos/teste1.txt\", \"w\")\n"
   ]
  },
  {
   "cell_type": "code",
   "execution_count": null,
   "metadata": {},
   "outputs": [],
   "source": [
    "### JEITO MÉDIO > pacote csv e expressão with\n",
    "\n",
    "import csv\n",
    "\n",
    "with open(\"DSA/Codigos/Cap04/Notebooks/arquivos/binary.csv\", \"r\") as arquivo:\n",
    "    arq = csv.reader(arquivo)\n",
    "    dados = list(arq)\n",
    "    \n",
    "print(dados)"
   ]
  },
  {
   "cell_type": "code",
   "execution_count": null,
   "metadata": {},
   "outputs": [],
   "source": [
    "arq = pd.read_csv(\"DSA/Codigos/Cap04/Notebooks/arquivos/numeros.csv\")\n",
    "arq.head()"
   ]
  },
  {
   "cell_type": "markdown",
   "metadata": {},
   "source": [
    "# 01/03/2020"
   ]
  },
  {
   "cell_type": "markdown",
   "metadata": {},
   "source": [
    "**Tratamento de datas e função map**"
   ]
  },
  {
   "cell_type": "code",
   "execution_count": 4,
   "metadata": {
    "scrolled": true
   },
   "outputs": [],
   "source": [
    "import datetime as dt"
   ]
  },
  {
   "cell_type": "code",
   "execution_count": 29,
   "metadata": {},
   "outputs": [
    {
     "name": "stdout",
     "output_type": "stream",
     "text": [
      "Dia da semana:  6 \n",
      " Valor ordinal:  737485 \n",
      " Formato ISO:  2020-03-01 \n",
      "\n",
      "Delta:  7 days, 0:31:14.149888 \n",
      " Comparação:  True \n",
      " Completo:  Sun Mar  1 21:47:32 2020\n"
     ]
    }
   ],
   "source": [
    "### CLASSE DATE \n",
    "\n",
    "hoje = dt.date.today()\n",
    "\n",
    "print(\"Dia da semana: \", dt.date.weekday(hoje), '\\n', \n",
    "      \"Valor ordinal: \", dt.date.toordinal(hoje), '\\n',\n",
    "      \"Formato ISO: \", dt.date.isoformat(hoje), '\\n')\n",
    "\n",
    "\n",
    "\n",
    "### DATETIME\n",
    "\n",
    "agora = dt.datetime.today()\n",
    "\n",
    "domingoPassado = dt.datetime(2020, 2, 23, 21, 16, 18, 560785)\n",
    "\n",
    "print('Delta: ', agora - domingoPassado,'\\n', \n",
    "      'Comparação: ',agora > domingoPassado, '\\n',\n",
    "      'Completo: ', agora.ctime())\n",
    "\n"
   ]
  },
  {
   "cell_type": "code",
   "execution_count": null,
   "metadata": {},
   "outputs": [],
   "source": [
    "dt.t"
   ]
  },
  {
   "cell_type": "markdown",
   "metadata": {},
   "source": [
    "# 02/04/2020"
   ]
  },
  {
   "cell_type": "markdown",
   "metadata": {},
   "source": [
    "**Funções reduce e filter**"
   ]
  },
  {
   "cell_type": "code",
   "execution_count": 11,
   "metadata": {},
   "outputs": [
    {
     "data": {
      "text/plain": [
       "6"
      ]
     },
     "execution_count": 11,
     "metadata": {},
     "output_type": "execute_result"
    }
   ],
   "source": [
    "#Reduce é uma função sumária, ou seja, aplica uma função a uma lista de modo que retorne, no fim, apenas um resultado. \n",
    "from functools import reduce \n",
    "\n",
    "lista = range(1, 4)\n",
    "reduce(lambda x, y: x+y, lista) #é o mesmo que sum(lista)\n"
   ]
  },
  {
   "cell_type": "code",
   "execution_count": 15,
   "metadata": {},
   "outputs": [
    {
     "data": {
      "text/plain": [
       "[-1, -4]"
      ]
     },
     "execution_count": 15,
     "metadata": {},
     "output_type": "execute_result"
    }
   ],
   "source": [
    "#Filter retorna apenas as ocorrências de uma lista que obedeçam a uma expressão booleana (outra função)\n",
    "lista = [-1, 2, 3, -4]\n",
    "list(filter(lambda x: True if x < 0 else False, lista))"
   ]
  },
  {
   "cell_type": "markdown",
   "metadata": {},
   "source": [
    "# 14/04/2020\n"
   ]
  },
  {
   "cell_type": "markdown",
   "metadata": {},
   "source": [
    "**Mais algumas peculiaridades de tipos**"
   ]
  },
  {
   "cell_type": "code",
   "execution_count": 8,
   "metadata": {},
   "outputs": [
    {
     "name": "stdout",
     "output_type": "stream",
     "text": [
      "300000000.0 \n",
      " 1.6e-35\n"
     ]
    }
   ],
   "source": [
    "#notação cientifica \n",
    "\n",
    "ex = 3e8\n",
    "\n",
    "ex2 = 1.6e-35\n",
    "\n",
    "print(ex, \"\\n\", ex2)"
   ]
  },
  {
   "cell_type": "code",
   "execution_count": 9,
   "metadata": {},
   "outputs": [
    {
     "data": {
      "text/plain": [
       "nan"
      ]
     },
     "execution_count": 9,
     "metadata": {},
     "output_type": "execute_result"
    }
   ],
   "source": [
    "#criar NaN \n",
    "\n",
    "float(\"nan\")"
   ]
  },
  {
   "cell_type": "code",
   "execution_count": 13,
   "metadata": {},
   "outputs": [
    {
     "name": "stdout",
     "output_type": "stream",
     "text": [
      "inf\n",
      "-inf\n"
     ]
    }
   ],
   "source": [
    "#criar infinitos\n",
    "\n",
    "infinito = float('inf')\n",
    "infNegativo = float('-inf')\n",
    "\n",
    "print(\"%s\\n%s\" %(infinito, infNegativo))"
   ]
  },
  {
   "cell_type": "markdown",
   "metadata": {},
   "source": [
    "**Módulos e Docstrings**"
   ]
  },
  {
   "cell_type": "code",
   "execution_count": 1,
   "metadata": {},
   "outputs": [],
   "source": [
    "'''\n",
    "Differential Calculus reports for single-variable functions\n",
    "\n",
    "Usage:\n",
    "    \n",
    "    python 3 difcalc.py <fx>\n",
    "'''\n",
    "\n",
    "import sympy as sym \n",
    "\n",
    "def derUmaVar(fx):\n",
    "    '''\n",
    "    Calculate the derivative of a single-variable function\n",
    "    \n",
    "        Args:\n",
    "            fx: a string representing a function o x\n",
    "            \n",
    "        Returns:\n",
    "            A symbol containing the derivative\n",
    "    \n",
    "    '''\n",
    "    posX = fx.find('x')\n",
    "    x = Symbol(fx[posX])\n",
    "\n",
    "    return sym.diff(fx, x)\n",
    "\n",
    "#2: recolhe o resultado da função derUmaVar e estuda pontos criticos e concavidade da função\n",
    "def concFunc(fx):\n",
    "    '''\n",
    "    Reports information about the concavity of a function\n",
    "    \n",
    "        Args:\n",
    "            fx: a string representing a function o x\n",
    "            \n",
    "        Returns: \n",
    "            a dictionary containing the first and second derivatives, besides all\n",
    "            concavity parameters.\n",
    "    '''\n",
    "    der = derUmaVar(fx)\n",
    "    zeros = solve(der)\n",
    "    cresc = solve(der > 0)\n",
    "    decres = solve(der < 0)\n",
    "        \n",
    "    segDer = sym.diff(der)\n",
    "    \n",
    "    inflex = []\n",
    "    minLoc = []\n",
    "    maxLoc = []\n",
    "    \n",
    "    for i in zeros:\n",
    "        if segDer.subs(x, i) == 0:\n",
    "            inflex.append(i)\n",
    "        elif segDer.subs(x, i) > 0:\n",
    "            minLoc.append(i)\n",
    "        else:\n",
    "            maxLoc.append(i)\n",
    "        \n",
    "        \n",
    "    results = {\"primeira derivada\": der, 'segunda derivada': segDer, 'pontos criticos': zeros, \n",
    "                  'segmentos crescentes': cresc, 'segmentos descrescentes': decres, \n",
    "                  'pontos de inflexao': inflex, 'minimo local': minLoc, 'maximo local': maxLoc}\n",
    "    \n",
    "    return results"
   ]
  },
  {
   "cell_type": "code",
   "execution_count": 3,
   "metadata": {},
   "outputs": [
    {
     "data": {
      "text/plain": [
       "'\\n    Reports information about the concavity of a function\\n    \\n        Args:\\n            fx: a string representing a function o x\\n            \\n        Returns: \\n            a dictionary containing the first and second derivatives, besides all\\n            concavity parameters.\\n    '"
      ]
     },
     "execution_count": 3,
     "metadata": {},
     "output_type": "execute_result"
    }
   ],
   "source": [
    "#acessar docstring criada acima \n",
    "\n",
    "concFunc.__doc__"
   ]
  },
  {
   "cell_type": "markdown",
   "metadata": {},
   "source": [
    "# 17/04/2020"
   ]
  },
  {
   "cell_type": "markdown",
   "metadata": {},
   "source": [
    "**Macetes com strings e tuplas**"
   ]
  },
  {
   "cell_type": "code",
   "execution_count": 9,
   "metadata": {},
   "outputs": [
    {
     "name": "stdout",
     "output_type": "stream",
     "text": [
      "02 / 2020\n"
     ]
    }
   ],
   "source": [
    "#o que acontece aqui é a geração de uma tupla através do método partition, que será \"desempacotada\" nas 3 variáveis\n",
    "mes, barra, ano = \"02/2020\".partition(\"/\")\n",
    "\n",
    "print(mes, barra, ano)"
   ]
  },
  {
   "cell_type": "code",
   "execution_count": 10,
   "metadata": {},
   "outputs": [
    {
     "name": "stdout",
     "output_type": "stream",
     "text": [
      "02 2020\n"
     ]
    }
   ],
   "source": [
    "#o código acima poderia ser feito descartando o separador numa variavel de lixo, sinalizada por _\n",
    "mes, _, ano = \"02/2020\".partition(\"/\")\n",
    "\n",
    "print(mes, ano)"
   ]
  },
  {
   "cell_type": "markdown",
   "metadata": {},
   "source": [
    "**Formatação elegante de strings**"
   ]
  },
  {
   "cell_type": "code",
   "execution_count": 12,
   "metadata": {},
   "outputs": [
    {
     "data": {
      "text/plain": [
       "'tenho 1.88 de altura'"
      ]
     },
     "execution_count": 12,
     "metadata": {},
     "output_type": "execute_result"
    }
   ],
   "source": [
    "#método format \n",
    "\n",
    "\"tenho {:.2f} de altura\".format(1.88)"
   ]
  },
  {
   "cell_type": "code",
   "execution_count": 13,
   "metadata": {},
   "outputs": [
    {
     "data": {
      "text/plain": [
       "'tenho 1.88 de altura'"
      ]
     },
     "execution_count": 13,
     "metadata": {},
     "output_type": "execute_result"
    }
   ],
   "source": [
    "#f-strings (LINDO)\n",
    "\n",
    "f\"tenho {1.88} de altura\""
   ]
  },
  {
   "cell_type": "markdown",
   "metadata": {},
   "source": [
    "**Iteração elegante com enumerate**"
   ]
  },
  {
   "cell_type": "code",
   "execution_count": 15,
   "metadata": {},
   "outputs": [
    {
     "name": "stdout",
     "output_type": "stream",
     "text": [
      "0\n",
      "3\n",
      "8\n",
      "15\n",
      "312\n",
      "45\n",
      "576\n"
     ]
    }
   ],
   "source": [
    "#substitui range()\n",
    "\n",
    "lista = [1,3,4,5,78,9,96]\n",
    "\n",
    "for a in enumerate(lista):\n",
    "    print(a[0] * a[1])"
   ]
  },
  {
   "cell_type": "markdown",
   "metadata": {},
   "source": []
  },
  {
   "cell_type": "markdown",
   "metadata": {},
   "source": [
    "**Mais algumas operações com listas**"
   ]
  },
  {
   "cell_type": "code",
   "execution_count": 20,
   "metadata": {},
   "outputs": [
    {
     "data": {
      "text/plain": [
       "[1, 3, 0, 0, 4, 5, 78, 9, 96]"
      ]
     },
     "execution_count": 20,
     "metadata": {},
     "output_type": "execute_result"
    }
   ],
   "source": [
    "lista.insert(2, 0)\n",
    "lista"
   ]
  },
  {
   "cell_type": "code",
   "execution_count": 21,
   "metadata": {},
   "outputs": [
    {
     "data": {
      "text/plain": [
       "[1, 3, 0, 4, 5, 78, 9, 96]"
      ]
     },
     "execution_count": 21,
     "metadata": {},
     "output_type": "execute_result"
    }
   ],
   "source": [
    "del lista[2]\n",
    "lista"
   ]
  },
  {
   "cell_type": "code",
   "execution_count": 22,
   "metadata": {},
   "outputs": [
    {
     "data": {
      "text/plain": [
       "[1, 3, 0, 4, 5, 78, 9, 96, 100, 101, 102]"
      ]
     },
     "execution_count": 22,
     "metadata": {},
     "output_type": "execute_result"
    }
   ],
   "source": [
    "lista.extend([100, 101, 102])\n",
    "lista"
   ]
  },
  {
   "cell_type": "code",
   "execution_count": 23,
   "metadata": {},
   "outputs": [
    {
     "data": {
      "text/plain": [
       "[102, 101, 100, 96, 9, 78, 5, 4, 0, 3, 1]"
      ]
     },
     "execution_count": 23,
     "metadata": {},
     "output_type": "execute_result"
    }
   ],
   "source": [
    "lista.reverse()\n",
    "lista"
   ]
  },
  {
   "cell_type": "code",
   "execution_count": 27,
   "metadata": {},
   "outputs": [
    {
     "data": {
      "text/plain": [
       "['adub', 'dab', 'ba', 'a']"
      ]
     },
     "execution_count": 27,
     "metadata": {},
     "output_type": "execute_result"
    }
   ],
   "source": [
    "lista2 = \"a ba dab adub\".split()\n",
    "lista2.sort(key = len, reverse = True)\n",
    "lista2"
   ]
  },
  {
   "cell_type": "markdown",
   "metadata": {},
   "source": [
    "**Sets e operações elegantes de conjuntos**"
   ]
  },
  {
   "cell_type": "code",
   "execution_count": 29,
   "metadata": {},
   "outputs": [],
   "source": [
    "masc = {\"João\", \"Pedro\", \"Mauricio\", \"Jorge\"}\n",
    "fem = {\"Olivia\", \"Ana\", \"Maria\", \"Laura\", \"Agostina\"}\n",
    "graduados = {\"João\", \"Pedro\", \"Maria\", \"Jorge\"}\n",
    "empregados = {\"Maria\", \"Laura\", \"João\", \"Pedro\"}\n"
   ]
  },
  {
   "cell_type": "code",
   "execution_count": 30,
   "metadata": {},
   "outputs": [
    {
     "data": {
      "text/plain": [
       "{'Jorge', 'João', 'Laura', 'Maria', 'Pedro'}"
      ]
     },
     "execution_count": 30,
     "metadata": {},
     "output_type": "execute_result"
    }
   ],
   "source": [
    "graduados.union(empregados)"
   ]
  },
  {
   "cell_type": "code",
   "execution_count": 32,
   "metadata": {},
   "outputs": [
    {
     "data": {
      "text/plain": [
       "{'João', 'Maria', 'Pedro'}"
      ]
     },
     "execution_count": 32,
     "metadata": {},
     "output_type": "execute_result"
    }
   ],
   "source": [
    "graduados.intersection(empregados)"
   ]
  },
  {
   "cell_type": "markdown",
   "metadata": {},
   "source": [
    "# Desafios Codewars"
   ]
  },
  {
   "cell_type": "markdown",
   "metadata": {},
   "source": [
    "**Your Order, please** 8kyu\n",
    "\n",
    "Your task is to sort a given string. Each word in the string will contain a single number. This number is the position the word should have in the result.\n",
    "\n",
    "Note: Numbers can be from 1 to 9. So 1 will be the first word (not 0).\n",
    "\n",
    "If the input string is empty, return an empty string. The words in the input String will only contain valid consecutive numbers."
   ]
  },
  {
   "cell_type": "code",
   "execution_count": 30,
   "metadata": {},
   "outputs": [
    {
     "name": "stdout",
     "output_type": "stream",
     "text": [
      "1\n",
      "['Thi1s']\n",
      "2\n",
      "['Thi1s', 'is2']\n",
      "3\n",
      "['Thi1s', 'is2', '3a']\n",
      "4\n",
      "['Thi1s', 'is2', '3a', 'T4est']\n",
      "5\n",
      "6\n",
      "7\n",
      "8\n"
     ]
    },
    {
     "data": {
      "text/plain": [
       "['Thi1s', 'is2', '3a', 'T4est']"
      ]
     },
     "execution_count": 30,
     "metadata": {},
     "output_type": "execute_result"
    }
   ],
   "source": [
    "#Minha solução\n",
    "\n",
    "string = \"is2 Thi1s T4est 3a\"\n",
    "a = string.split()\n",
    "ordered = []\n",
    "\n",
    "def order(sentence):\n",
    "    if sentence is not None:\n",
    "        words = sentence.split()\n",
    "        ordered = []\n",
    "        \n",
    "        for x in range (1,10):       \n",
    "            for i in range(0, len(words)):\n",
    "                if words[i].find(str(x)) != -1:\n",
    "                    ordered.append(words[i])\n",
    "                    \n",
    "        output = ' '\n",
    "        output = output.join(ordered)\n",
    "        \n",
    "    else:\n",
    "        ordered = ''\n",
    "        \n",
    "    return output\n",
    "\n",
    "#Solução mais votada\n",
    "\n",
    "def order(sentence):\n",
    "    return \" \".join(sorted(sentence.split(), key=lambda x: list(filter(lambda y: y.isdigit(), x))))"
   ]
  },
  {
   "cell_type": "markdown",
   "metadata": {},
   "source": [
    "**Dollars and Cents** \n",
    "8kyu\n",
    "\n",
    "The company you work for has just been awarded a contract to build a payment gateway. In order to help move things along, you have volunteered to create a function that will take a float and return the amount formatting in dollars and cents.\n",
    "\n",
    "39.99 becomes $39.99\n",
    "\n",
    "The rest of your team will make sure that the argument is sanitized before being passed to your function although you will need to account for adding trailing zeros if they are missing (though you won't have to worry about a dangling period).\n",
    "\n",
    "Examples:\n",
    "\n",
    "3 needs to become $3.00\n",
    "\n",
    "3.1 needs to become $3.10"
   ]
  },
  {
   "cell_type": "code",
   "execution_count": 70,
   "metadata": {},
   "outputs": [
    {
     "data": {
      "text/plain": [
       "'$23455.00'"
      ]
     },
     "execution_count": 70,
     "metadata": {},
     "output_type": "execute_result"
    }
   ],
   "source": [
    "amount = 23455\n",
    "\n",
    "#minha solução\n",
    "\n",
    "def format_money(amount):\n",
    "    return \"$\" + str(amount) + \".00\" if len(str(amount).split(\".\")) == 1 else \"$\" + str(amount) + \"0\" if len(str(amount).split(\".\")[1]) == 1 else \"$\" + amount\n",
    "\n",
    "#solução mais votada \n",
    "\n",
    "def format_money(amount):\n",
    "    return '${:.2f}'.format(amount)\n"
   ]
  }
 ],
 "metadata": {
  "kernelspec": {
   "display_name": "Python 3",
   "language": "python",
   "name": "python3"
  },
  "language_info": {
   "codemirror_mode": {
    "name": "ipython",
    "version": 3
   },
   "file_extension": ".py",
   "mimetype": "text/x-python",
   "name": "python",
   "nbconvert_exporter": "python",
   "pygments_lexer": "ipython3",
   "version": "3.7.4"
  }
 },
 "nbformat": 4,
 "nbformat_minor": 2
}
