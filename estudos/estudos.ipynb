{
 "cells": [
  {
   "cell_type": "markdown",
   "metadata": {},
   "source": [
    "# Diretorio e pacotes"
   ]
  },
  {
   "cell_type": "code",
   "execution_count": null,
   "metadata": {},
   "outputs": [],
   "source": [
    "#muda diretorio atual\n",
    "from os import chdir\n",
    "chdir(\"\")\n"
   ]
  },
  {
   "cell_type": "code",
   "execution_count": 1,
   "metadata": {},
   "outputs": [],
   "source": [
    "import math, \\\n",
    "    numpy as np, \\\n",
    "    pandas as pd, \\\n",
    "    scipy as sp, \\\n",
    "    statsmodels.api as sm, \\\n",
    "    matplotlib as mpl, \\\n",
    "    seaborn as sns, \\\n",
    "    sklearn as sk, \\\n",
    "    sympy as sym\n"
   ]
  },
  {
   "cell_type": "markdown",
   "metadata": {},
   "source": [
    "# 26/01/2019"
   ]
  },
  {
   "cell_type": "code",
   "execution_count": null,
   "metadata": {},
   "outputs": [],
   "source": [
    "print(\"hello world\")"
   ]
  },
  {
   "cell_type": "markdown",
   "metadata": {},
   "source": [
    "**Criando e convertendo variaveis**"
   ]
  },
  {
   "cell_type": "code",
   "execution_count": null,
   "metadata": {},
   "outputs": [],
   "source": [
    "inteiro = 1\n",
    "real = 4.2\n",
    "caractere = \"a\"\n",
    "logico = True\n",
    "lista = [1, \"a\", 4.2, True]\n",
    "tupla = (2, \"b\")\n",
    "\n",
    "print(inteiro, real, caractere, logico, \" \", lista[1], type(lista), tupla)\n",
    "str(inteiro)"
   ]
  },
  {
   "cell_type": "markdown",
   "metadata": {},
   "source": [
    "**Strings com aspas triplas**"
   ]
  },
  {
   "cell_type": "code",
   "execution_count": null,
   "metadata": {},
   "outputs": [],
   "source": [
    "print(\"\"\" a vaca d´água faz \"mu\" mas ninguém ouve\"\"\")"
   ]
  },
  {
   "cell_type": "code",
   "execution_count": null,
   "metadata": {},
   "outputs": [],
   "source": [
    "print(''' rupi\n",
    "kaur''')"
   ]
  },
  {
   "cell_type": "markdown",
   "metadata": {},
   "source": [
    "**Aritmetica e Lógica**"
   ]
  },
  {
   "cell_type": "code",
   "execution_count": null,
   "metadata": {
    "scrolled": false
   },
   "outputs": [],
   "source": [
    "\n",
    "16 / 3"
   ]
  },
  {
   "cell_type": "code",
   "execution_count": null,
   "metadata": {},
   "outputs": [],
   "source": [
    "#exponenciar\n",
    "5 ** 2"
   ]
  },
  {
   "cell_type": "code",
   "execution_count": null,
   "metadata": {},
   "outputs": [],
   "source": [
    "#parte inteira da divisão\n",
    "3//2"
   ]
  },
  {
   "cell_type": "code",
   "execution_count": null,
   "metadata": {},
   "outputs": [],
   "source": [
    "#resto\n",
    "3 % 2"
   ]
  },
  {
   "cell_type": "code",
   "execution_count": 1,
   "metadata": {},
   "outputs": [
    {
     "data": {
      "text/plain": [
       "True"
      ]
     },
     "execution_count": 1,
     "metadata": {},
     "output_type": "execute_result"
    }
   ],
   "source": [
    "#Ordem de execução: not, depois and, depois or\n",
    "False or not False and True"
   ]
  },
  {
   "cell_type": "code",
   "execution_count": null,
   "metadata": {},
   "outputs": [],
   "source": [
    "True and not True and True"
   ]
  },
  {
   "cell_type": "code",
   "execution_count": null,
   "metadata": {},
   "outputs": [],
   "source": [
    "False or True and False"
   ]
  },
  {
   "cell_type": "markdown",
   "metadata": {},
   "source": [
    "# 27/01/2019"
   ]
  },
  {
   "cell_type": "markdown",
   "metadata": {},
   "source": [
    "**Iterando uma condição por um vetor**"
   ]
  },
  {
   "cell_type": "code",
   "execution_count": null,
   "metadata": {},
   "outputs": [],
   "source": [
    "vetor_num = [-1, 2, 12]\n",
    "#há alguma nota menor que 0 ou maior que 10?\n",
    "any(num < 0 or num > 10 for num in vetor_num)\n",
    "\n",
    "#todas as notas são maiores que 0?\n",
    "all(num > 0 for num in vetor_num)"
   ]
  },
  {
   "cell_type": "markdown",
   "metadata": {},
   "source": [
    "**Est. de decisão e funções**"
   ]
  },
  {
   "cell_type": "code",
   "execution_count": null,
   "metadata": {},
   "outputs": [],
   "source": [
    "def situacao_aluno(notas = None): \n",
    "    if notas == None:\n",
    "        print(\"valor nulo\")\n",
    "    elif any(nota < 0 or nota > 10 for nota in notas):\n",
    "        print(\"valor invalido\")\n",
    "    elif mean(notas) >= 5:\n",
    "        print(\"aprovado\")\n",
    "        return mean(notas)\n",
    "    else:\n",
    "        print(\"reprovado\")\n",
    "        return mean(notas)\n",
    "        "
   ]
  },
  {
   "cell_type": "markdown",
   "metadata": {},
   "source": [
    "**Importando funções e pacotes** "
   ]
  },
  {
   "cell_type": "code",
   "execution_count": null,
   "metadata": {},
   "outputs": [],
   "source": [
    "from statistics import mean\n",
    "notas = [1,2,3.4]\n",
    "situacao_aluno(notas)\n",
    "\n",
    "import statistics\n",
    "statistics.mean(notas)"
   ]
  },
  {
   "cell_type": "markdown",
   "metadata": {},
   "source": [
    "# 28/01/2020"
   ]
  },
  {
   "cell_type": "markdown",
   "metadata": {},
   "source": [
    "**Funções nativas úteis**\n"
   ]
  },
  {
   "cell_type": "code",
   "execution_count": null,
   "metadata": {
    "scrolled": false
   },
   "outputs": [],
   "source": [
    "# **NOTA : para acessar a última posição de uma lista ou tupla, utilize len(lista) -1, \n",
    "#pois começamos a contar do 0 **\n",
    "\n",
    "lista = range(0, 10, 1)\n",
    "print( min(lista), max(lista), len(lista), pow(lista[2], lista[3]))\n",
    "\n",
    "real = -5.678\n",
    "abs(round(real, 2))\n"
   ]
  },
  {
   "cell_type": "markdown",
   "metadata": {},
   "source": [
    "**Métodos e outras operações com arrays**"
   ]
  },
  {
   "cell_type": "code",
   "execution_count": null,
   "metadata": {},
   "outputs": [],
   "source": [
    "#duas listas\n",
    "nomes = [\"João\", \"Ana\", \"Maria\"]\n",
    "idades = [18, 28, 49]\n",
    "\n",
    "#ordenando\n",
    "idades.sort(reverse = True)\n",
    "print(idades)\n",
    "\n",
    "#lista de listas\n",
    "pessoas = [nomes, idades]\n",
    "\n",
    "#adicionando uma outra lista como atributo \n",
    "pesos = [65.3, 74.4, 80.0]\n",
    "pessoas.append(pesos)\n",
    "print(pessoas)\n",
    "\n",
    "#criando substrato \n",
    "pesos = pessoas[-1]\n",
    "print(pesos)"
   ]
  },
  {
   "cell_type": "markdown",
   "metadata": {},
   "source": [
    "# 30/01/2020"
   ]
  },
  {
   "cell_type": "markdown",
   "metadata": {},
   "source": [
    "**Dicionarios**"
   ]
  },
  {
   "cell_type": "code",
   "execution_count": null,
   "metadata": {},
   "outputs": [],
   "source": [
    "dicio = {'nome': 'João', 'idade': 23, 'bool' : True}\n",
    "print(dicio.get('bool'))"
   ]
  },
  {
   "cell_type": "markdown",
   "metadata": {},
   "source": [
    "**Estruturas de repetição e numeros pseudo-aleatorios**"
   ]
  },
  {
   "cell_type": "code",
   "execution_count": null,
   "metadata": {},
   "outputs": [],
   "source": [
    "from random import randrange\n",
    "\n",
    "\n",
    "for n in range(0, 10):\n",
    "    if n == 0:\n",
    "        aleatorio_intervalo = [] \n",
    "    aleatorio_intervalo.append(randrange(0, stop = 10, step = 1))\n",
    "    \n",
    "print(aleatorio_intervalo)"
   ]
  },
  {
   "cell_type": "code",
   "execution_count": null,
   "metadata": {},
   "outputs": [],
   "source": [
    "from random import choices, sample\n",
    "\n",
    "#repete numeros\n",
    "print(choices(population = aleatorio_intervalo, k = 5), end = '\\n')\n",
    "\n",
    "#não repete\n",
    "print(sample(population = aleatorio_intervalo, k = 5))"
   ]
  },
  {
   "cell_type": "markdown",
   "metadata": {},
   "source": [
    "# 01/02/2020"
   ]
  },
  {
   "cell_type": "markdown",
   "metadata": {},
   "source": [
    "**Importação de bases e regressão linear simples**"
   ]
  },
  {
   "cell_type": "code",
   "execution_count": null,
   "metadata": {},
   "outputs": [],
   "source": [
    "#importar csv\n",
    "dados = pd.read_csv(\"1.01. Simple linear regression.csv\")"
   ]
  },
  {
   "cell_type": "code",
   "execution_count": null,
   "metadata": {},
   "outputs": [],
   "source": [
    "#definir variáveis para y = b0 + b1x1\n",
    "y = dados['GPA']\n",
    "x1 = dados['SAT']\n",
    "\n",
    "#adiciona a constante b0 \n",
    "x = sm.add_constant(x1)\n",
    "\n",
    "#computar regressão\n",
    "resultado = sm.OLS(y,x).fit()\n",
    "resultado.summary()\n"
   ]
  },
  {
   "cell_type": "markdown",
   "metadata": {},
   "source": [
    "# 10/02/2020"
   ]
  },
  {
   "cell_type": "markdown",
   "metadata": {},
   "source": [
    "**Regressão múltipla**"
   ]
  },
  {
   "cell_type": "code",
   "execution_count": null,
   "metadata": {},
   "outputs": [],
   "source": [
    "dados = pd.read_csv(\"1.02. Multiple linear regression.csv\")\n",
    "dados.describe()"
   ]
  },
  {
   "cell_type": "code",
   "execution_count": null,
   "metadata": {},
   "outputs": [],
   "source": [
    "#mesmo esquema da regressão simples, \n",
    "#passando dessa vez um dataframe para x1, com as variáveis independentes\n",
    "\n",
    "y = dados['GPA']\n",
    "x1 = dados[['SAT', 'Rand 1,2,3']]\n",
    "\n",
    "x = sm.add_constant(x1)\n",
    "resultado = sm.OLS(y, x).fit()\n",
    "\n",
    "resultado.summary()"
   ]
  },
  {
   "cell_type": "markdown",
   "metadata": {},
   "source": [
    "# 21/02/2020\n"
   ]
  },
  {
   "cell_type": "markdown",
   "metadata": {},
   "source": [
    "**Métodos para manipular strings**"
   ]
  },
  {
   "cell_type": "code",
   "execution_count": null,
   "metadata": {},
   "outputs": [],
   "source": [
    "string = \"paca tatu, cotia não\"\n",
    "\n",
    "string.capitalize()"
   ]
  },
  {
   "cell_type": "code",
   "execution_count": null,
   "metadata": {},
   "outputs": [],
   "source": [
    "string.upper()"
   ]
  },
  {
   "cell_type": "code",
   "execution_count": null,
   "metadata": {},
   "outputs": [],
   "source": [
    "string.lower()"
   ]
  },
  {
   "cell_type": "code",
   "execution_count": null,
   "metadata": {},
   "outputs": [],
   "source": [
    "#fatia a string em cada ocorrência do parâmetro fornecido\n",
    "string.split(\" \")"
   ]
  },
  {
   "cell_type": "code",
   "execution_count": null,
   "metadata": {},
   "outputs": [],
   "source": [
    "#retorna a posição na string onde seja encontrado o parãmetro fornecido \n",
    "string.find(\",\")"
   ]
  },
  {
   "cell_type": "code",
   "execution_count": null,
   "metadata": {},
   "outputs": [],
   "source": [
    "#returna o numero de ocorrencias de um caractere numa string\n",
    "string.count(\"o\")"
   ]
  },
  {
   "cell_type": "code",
   "execution_count": null,
   "metadata": {},
   "outputs": [],
   "source": [
    "#centraliza a string entre duas margens que podem ser preenchidas com caracteres\n",
    "string.center(50, '#')"
   ]
  },
  {
   "cell_type": "code",
   "execution_count": null,
   "metadata": {},
   "outputs": [],
   "source": [
    "#retorna True se todos os caracteres pertencem ao alfabeto - há diversas funções análogas para \n",
    "#outras deteccções\n",
    "string.isalpha()"
   ]
  },
  {
   "cell_type": "code",
   "execution_count": null,
   "metadata": {},
   "outputs": [],
   "source": [
    "#remove espaço em branco nas bordas da string\n",
    "\n",
    "string = \" a b \"\n",
    "string.strip()\n"
   ]
  },
  {
   "cell_type": "markdown",
   "metadata": {},
   "source": [
    "**Indexando lista alinhada**"
   ]
  },
  {
   "cell_type": "code",
   "execution_count": null,
   "metadata": {},
   "outputs": [],
   "source": [
    "lista = [[1,2,3]]\n",
    "\n",
    "lista[0][2]"
   ]
  },
  {
   "cell_type": "markdown",
   "metadata": {},
   "source": [
    "# 24/02/2020"
   ]
  },
  {
   "cell_type": "markdown",
   "metadata": {},
   "source": [
    "**Input e placeholders**"
   ]
  },
  {
   "cell_type": "code",
   "execution_count": null,
   "metadata": {},
   "outputs": [],
   "source": [
    "nome = input('Digite o seu nome:')\n",
    "a = \"João\"\n",
    "\n",
    "if nome != \"João\":\n",
    "    print('''Eu me chamo %s, pois é, fiz a ligação... e ela disse \"Alô %s\" ''' %(nome, a))\n"
   ]
  },
  {
   "cell_type": "markdown",
   "metadata": {},
   "source": [
    "# 26/02/2020"
   ]
  },
  {
   "cell_type": "markdown",
   "metadata": {},
   "source": [
    "**funções, métodos e estruturas lambda**"
   ]
  },
  {
   "cell_type": "code",
   "execution_count": null,
   "metadata": {},
   "outputs": [],
   "source": [
    "import sympy as sym\n",
    "#Definição de funções para cálculo diferencial de uma variável\n",
    "\n",
    "\n",
    "#1: deriva equações de uma variável, recebidas pelo parâmetro eq como strings. Retorn um símbolo\n",
    "eq = 'x**3'\n",
    "\n",
    "def derUmaVar(fx):\n",
    "    \n",
    "    posX = fx.find('x')\n",
    "    x = Symbol(fx[posX])\n",
    "\n",
    "    return sym.diff(fx, x)\n",
    "\n",
    "#2: recolhe o resultado da função derUmaVar e estuda pontos criticos e concavidade da função\n",
    "def concFunc(fx):\n",
    "    der = derUmaVar(fx)\n",
    "    zeros = solve(der)\n",
    "    cresc = solve(der > 0)\n",
    "    decres = solve(der < 0)\n",
    "        \n",
    "    segDer = sym.diff(der)\n",
    "    \n",
    "    inflex = []\n",
    "    minLoc = []\n",
    "    maxLoc = []\n",
    "    \n",
    "    for i in zeros:\n",
    "        if segDer.subs(x, i) == 0:\n",
    "            inflex.append(i)\n",
    "        elif segDer.subs(x, i) > 0:\n",
    "            minLoc.append(i)\n",
    "        else:\n",
    "            maxLoc.append(i)\n",
    "        \n",
    "        \n",
    "    results = {\"primeira derivada\": der, 'segunda derivada': segDer, 'pontos criticos': zeros, \n",
    "                  'segmentos crescentes': cresc, 'segmentos descrescentes': decres, \n",
    "                  'pontos de inflexao': inflex, 'minimo local': minLoc, 'maximo local': maxLoc}\n",
    "    \n",
    "    return results\n",
    "\n",
    "    "
   ]
  },
  {
   "cell_type": "code",
   "execution_count": null,
   "metadata": {},
   "outputs": [],
   "source": [
    "#testando a função acima\n",
    "eq = 'x**3'\n",
    "resultados = concFunc(eq)\n",
    "resultados\n"
   ]
  },
  {
   "cell_type": "code",
   "execution_count": null,
   "metadata": {},
   "outputs": [],
   "source": [
    "#função anonima que calcula o valor em Fahrenheit para cada valor em Celsius \n",
    "Celsius = [39.2, 36.5, 37.3, 37.8]\n",
    "Fahrenheit = map(lambda temp: temp * 1.8 + 32, Celsius)\n",
    "print (list(Fahrenheit))"
   ]
  },
  {
   "cell_type": "markdown",
   "metadata": {},
   "source": [
    "# 29/02/2020"
   ]
  },
  {
   "cell_type": "markdown",
   "metadata": {},
   "source": [
    "**Tratamento de arquivos**"
   ]
  },
  {
   "cell_type": "code",
   "execution_count": null,
   "metadata": {},
   "outputs": [],
   "source": [
    "### JEITO LENTO > funções built-in\n",
    "\n",
    "\n",
    "#importa o arquivo para leitura\n",
    "arq = open(\"DSA/Arquivos/teste1.txt\", \"r\")\n",
    "\n",
    "#retorna o conteúdo\n",
    "arq.read()\n",
    "\n",
    "#aponta para uma posição no arquivo\n",
    "arq.seek(4)\n",
    "\n",
    "\n",
    "#importa para escrita \n",
    "arq = open(\"DSA/Arquivos/teste1.txt\", \"w\")\n"
   ]
  },
  {
   "cell_type": "code",
   "execution_count": null,
   "metadata": {},
   "outputs": [],
   "source": [
    "### JEITO MÉDIO > pacote csv e expressão with\n",
    "\n",
    "import csv\n",
    "\n",
    "with open(\"DSA/Codigos/Cap04/Notebooks/arquivos/binary.csv\", \"r\") as arquivo:\n",
    "    arq = csv.reader(arquivo)\n",
    "    dados = list(arq)\n",
    "    \n",
    "print(dados)"
   ]
  },
  {
   "cell_type": "code",
   "execution_count": null,
   "metadata": {},
   "outputs": [],
   "source": [
    "arq = pd.read_csv(\"DSA/Codigos/Cap04/Notebooks/arquivos/numeros.csv\")\n",
    "arq.head()"
   ]
  },
  {
   "cell_type": "markdown",
   "metadata": {},
   "source": [
    "# 01/03/2020"
   ]
  },
  {
   "cell_type": "markdown",
   "metadata": {},
   "source": [
    "**Tratamento de datas e função map**"
   ]
  },
  {
   "cell_type": "code",
   "execution_count": 4,
   "metadata": {
    "scrolled": true
   },
   "outputs": [],
   "source": [
    "import datetime as dt"
   ]
  },
  {
   "cell_type": "code",
   "execution_count": 29,
   "metadata": {},
   "outputs": [
    {
     "name": "stdout",
     "output_type": "stream",
     "text": [
      "Dia da semana:  6 \n",
      " Valor ordinal:  737485 \n",
      " Formato ISO:  2020-03-01 \n",
      "\n",
      "Delta:  7 days, 0:31:14.149888 \n",
      " Comparação:  True \n",
      " Completo:  Sun Mar  1 21:47:32 2020\n"
     ]
    }
   ],
   "source": [
    "### CLASSE DATE \n",
    "\n",
    "hoje = dt.date.today()\n",
    "\n",
    "print(\"Dia da semana: \", dt.date.weekday(hoje), '\\n', \n",
    "      \"Valor ordinal: \", dt.date.toordinal(hoje), '\\n',\n",
    "      \"Formato ISO: \", dt.date.isoformat(hoje), '\\n')\n",
    "\n",
    "\n",
    "\n",
    "### DATETIME\n",
    "\n",
    "agora = dt.datetime.today()\n",
    "\n",
    "domingoPassado = dt.datetime(2020, 2, 23, 21, 16, 18, 560785)\n",
    "\n",
    "print('Delta: ', agora - domingoPassado,'\\n', \n",
    "      'Comparação: ',agora > domingoPassado, '\\n',\n",
    "      'Completo: ', agora.ctime())\n",
    "\n"
   ]
  },
  {
   "cell_type": "code",
   "execution_count": null,
   "metadata": {},
   "outputs": [],
   "source": [
    "dt.t"
   ]
  },
  {
   "cell_type": "markdown",
   "metadata": {},
   "source": [
    "# 02/04/2020"
   ]
  },
  {
   "cell_type": "markdown",
   "metadata": {},
   "source": [
    "**Funções reduce e filter**"
   ]
  },
  {
   "cell_type": "code",
   "execution_count": 11,
   "metadata": {},
   "outputs": [
    {
     "data": {
      "text/plain": [
       "6"
      ]
     },
     "execution_count": 11,
     "metadata": {},
     "output_type": "execute_result"
    }
   ],
   "source": [
    "#Reduce é uma função sumária, ou seja, aplica uma função a uma lista de modo que retorne, no fim, apenas um resultado. \n",
    "from functools import reduce \n",
    "\n",
    "lista = range(1, 4)\n",
    "reduce(lambda x, y: x+y, lista) #é o mesmo que sum(lista)\n"
   ]
  },
  {
   "cell_type": "code",
   "execution_count": 15,
   "metadata": {},
   "outputs": [
    {
     "data": {
      "text/plain": [
       "[-1, -4]"
      ]
     },
     "execution_count": 15,
     "metadata": {},
     "output_type": "execute_result"
    }
   ],
   "source": [
    "#Filter retorna apenas as ocorrências de uma lista que obedeçam a uma expressão booleana (outra função)\n",
    "lista = [-1, 2, 3, -4]\n",
    "list(filter(lambda x: True if x < 0 else False, lista))"
   ]
  },
  {
   "cell_type": "markdown",
   "metadata": {},
   "source": [
    "# 14/04/2020\n"
   ]
  },
  {
   "cell_type": "markdown",
   "metadata": {},
   "source": [
    "**Mais algumas peculiaridades de tipos**"
   ]
  },
  {
   "cell_type": "code",
   "execution_count": 8,
   "metadata": {},
   "outputs": [
    {
     "name": "stdout",
     "output_type": "stream",
     "text": [
      "300000000.0 \n",
      " 1.6e-35\n"
     ]
    }
   ],
   "source": [
    "#notação cientifica \n",
    "\n",
    "ex = 3e8\n",
    "\n",
    "ex2 = 1.6e-35\n",
    "\n",
    "print(ex, \"\\n\", ex2)"
   ]
  },
  {
   "cell_type": "code",
   "execution_count": 9,
   "metadata": {},
   "outputs": [
    {
     "data": {
      "text/plain": [
       "nan"
      ]
     },
     "execution_count": 9,
     "metadata": {},
     "output_type": "execute_result"
    }
   ],
   "source": [
    "#criar NaN \n",
    "\n",
    "float(\"nan\")"
   ]
  },
  {
   "cell_type": "code",
   "execution_count": 13,
   "metadata": {},
   "outputs": [
    {
     "name": "stdout",
     "output_type": "stream",
     "text": [
      "inf\n",
      "-inf\n"
     ]
    }
   ],
   "source": [
    "#criar infinitos\n",
    "\n",
    "infinito = float('inf')\n",
    "infNegativo = float('-inf')\n",
    "\n",
    "print(\"%s\\n%s\" %(infinito, infNegativo))"
   ]
  },
  {
   "cell_type": "markdown",
   "metadata": {},
   "source": [
    "**Módulos e Docstrings**"
   ]
  },
  {
   "cell_type": "code",
   "execution_count": 1,
   "metadata": {},
   "outputs": [],
   "source": [
    "'''\n",
    "Differential Calculus reports for single-variable functions\n",
    "\n",
    "Usage:\n",
    "    \n",
    "    python 3 difcalc.py <fx>\n",
    "'''\n",
    "\n",
    "import sympy as sym \n",
    "\n",
    "def derUmaVar(fx):\n",
    "    '''\n",
    "    Calculate the derivative of a single-variable function\n",
    "    \n",
    "        Args:\n",
    "            fx: a string representing a function o x\n",
    "            \n",
    "        Returns:\n",
    "            A symbol containing the derivative\n",
    "    \n",
    "    '''\n",
    "    posX = fx.find('x')\n",
    "    x = Symbol(fx[posX])\n",
    "\n",
    "    return sym.diff(fx, x)\n",
    "\n",
    "#2: recolhe o resultado da função derUmaVar e estuda pontos criticos e concavidade da função\n",
    "def concFunc(fx):\n",
    "    '''\n",
    "    Reports information about the concavity of a function\n",
    "    \n",
    "        Args:\n",
    "            fx: a string representing a function o x\n",
    "            \n",
    "        Returns: \n",
    "            a dictionary containing the first and second derivatives, besides all\n",
    "            concavity parameters.\n",
    "    '''\n",
    "    der = derUmaVar(fx)\n",
    "    zeros = solve(der)\n",
    "    cresc = solve(der > 0)\n",
    "    decres = solve(der < 0)\n",
    "        \n",
    "    segDer = sym.diff(der)\n",
    "    \n",
    "    inflex = []\n",
    "    minLoc = []\n",
    "    maxLoc = []\n",
    "    \n",
    "    for i in zeros:\n",
    "        if segDer.subs(x, i) == 0:\n",
    "            inflex.append(i)\n",
    "        elif segDer.subs(x, i) > 0:\n",
    "            minLoc.append(i)\n",
    "        else:\n",
    "            maxLoc.append(i)\n",
    "        \n",
    "        \n",
    "    results = {\"primeira derivada\": der, 'segunda derivada': segDer, 'pontos criticos': zeros, \n",
    "                  'segmentos crescentes': cresc, 'segmentos descrescentes': decres, \n",
    "                  'pontos de inflexao': inflex, 'minimo local': minLoc, 'maximo local': maxLoc}\n",
    "    \n",
    "    return results"
   ]
  },
  {
   "cell_type": "code",
   "execution_count": 3,
   "metadata": {},
   "outputs": [
    {
     "data": {
      "text/plain": [
       "'\\n    Reports information about the concavity of a function\\n    \\n        Args:\\n            fx: a string representing a function o x\\n            \\n        Returns: \\n            a dictionary containing the first and second derivatives, besides all\\n            concavity parameters.\\n    '"
      ]
     },
     "execution_count": 3,
     "metadata": {},
     "output_type": "execute_result"
    }
   ],
   "source": [
    "#acessar docstring criada acima \n",
    "\n",
    "concFunc.__doc__"
   ]
  },
  {
   "cell_type": "markdown",
   "metadata": {},
   "source": [
    "# 17/04/2020"
   ]
  },
  {
   "cell_type": "markdown",
   "metadata": {},
   "source": [
    "**Macetes com strings e tuplas**"
   ]
  },
  {
   "cell_type": "code",
   "execution_count": 9,
   "metadata": {},
   "outputs": [
    {
     "name": "stdout",
     "output_type": "stream",
     "text": [
      "02 / 2020\n"
     ]
    }
   ],
   "source": [
    "#o que acontece aqui é a geração de uma tupla através do método partition, que será \"desempacotada\" nas 3 variáveis\n",
    "mes, barra, ano = \"02/2020\".partition(\"/\")\n",
    "\n",
    "print(mes, barra, ano)"
   ]
  },
  {
   "cell_type": "code",
   "execution_count": 10,
   "metadata": {},
   "outputs": [
    {
     "name": "stdout",
     "output_type": "stream",
     "text": [
      "02 2020\n"
     ]
    }
   ],
   "source": [
    "#o código acima poderia ser feito descartando o separador numa variavel de lixo, sinalizada por _\n",
    "mes, _, ano = \"02/2020\".partition(\"/\")\n",
    "\n",
    "print(mes, ano)"
   ]
  },
  {
   "cell_type": "markdown",
   "metadata": {},
   "source": [
    "**Formatação elegante de strings**"
   ]
  },
  {
   "cell_type": "code",
   "execution_count": 12,
   "metadata": {},
   "outputs": [
    {
     "data": {
      "text/plain": [
       "'tenho 1.88 de altura'"
      ]
     },
     "execution_count": 12,
     "metadata": {},
     "output_type": "execute_result"
    }
   ],
   "source": [
    "#método format \n",
    "\n",
    "\"tenho {:.2f} de altura\".format(1.88)"
   ]
  },
  {
   "cell_type": "code",
   "execution_count": 13,
   "metadata": {},
   "outputs": [
    {
     "data": {
      "text/plain": [
       "'tenho 1.88 de altura'"
      ]
     },
     "execution_count": 13,
     "metadata": {},
     "output_type": "execute_result"
    }
   ],
   "source": [
    "#f-strings (LINDO)\n",
    "\n",
    "f\"tenho {1.88} de altura\""
   ]
  },
  {
   "cell_type": "markdown",
   "metadata": {},
   "source": [
    "**Iteração elegante com enumerate**"
   ]
  },
  {
   "cell_type": "code",
   "execution_count": 15,
   "metadata": {},
   "outputs": [
    {
     "name": "stdout",
     "output_type": "stream",
     "text": [
      "0\n",
      "3\n",
      "8\n",
      "15\n",
      "312\n",
      "45\n",
      "576\n"
     ]
    }
   ],
   "source": [
    "#substitui range()\n",
    "\n",
    "lista = [1,3,4,5,78,9,96]\n",
    "\n",
    "for a in enumerate(lista):\n",
    "    print(a[0] * a[1])"
   ]
  },
  {
   "cell_type": "markdown",
   "metadata": {},
   "source": [
    "**Mais algumas operações com listas**"
   ]
  },
  {
   "cell_type": "code",
   "execution_count": 20,
   "metadata": {},
   "outputs": [
    {
     "data": {
      "text/plain": [
       "[1, 3, 0, 0, 4, 5, 78, 9, 96]"
      ]
     },
     "execution_count": 20,
     "metadata": {},
     "output_type": "execute_result"
    }
   ],
   "source": [
    "lista.insert(2, 0)\n",
    "lista"
   ]
  },
  {
   "cell_type": "code",
   "execution_count": 21,
   "metadata": {},
   "outputs": [
    {
     "data": {
      "text/plain": [
       "[1, 3, 0, 4, 5, 78, 9, 96]"
      ]
     },
     "execution_count": 21,
     "metadata": {},
     "output_type": "execute_result"
    }
   ],
   "source": [
    "del lista[2]\n",
    "lista"
   ]
  },
  {
   "cell_type": "code",
   "execution_count": 22,
   "metadata": {},
   "outputs": [
    {
     "data": {
      "text/plain": [
       "[1, 3, 0, 4, 5, 78, 9, 96, 100, 101, 102]"
      ]
     },
     "execution_count": 22,
     "metadata": {},
     "output_type": "execute_result"
    }
   ],
   "source": [
    "lista.extend([100, 101, 102])\n",
    "lista"
   ]
  },
  {
   "cell_type": "code",
   "execution_count": 23,
   "metadata": {},
   "outputs": [
    {
     "data": {
      "text/plain": [
       "[102, 101, 100, 96, 9, 78, 5, 4, 0, 3, 1]"
      ]
     },
     "execution_count": 23,
     "metadata": {},
     "output_type": "execute_result"
    }
   ],
   "source": [
    "lista.reverse()\n",
    "lista"
   ]
  },
  {
   "cell_type": "code",
   "execution_count": 27,
   "metadata": {},
   "outputs": [
    {
     "data": {
      "text/plain": [
       "['adub', 'dab', 'ba', 'a']"
      ]
     },
     "execution_count": 27,
     "metadata": {},
     "output_type": "execute_result"
    }
   ],
   "source": [
    "lista2 = \"a ba dab adub\".split()\n",
    "lista2.sort(key = len, reverse = True)\n",
    "lista2"
   ]
  },
  {
   "cell_type": "markdown",
   "metadata": {},
   "source": [
    "**Sets e operações elegantes de conjuntos**"
   ]
  },
  {
   "cell_type": "code",
   "execution_count": 29,
   "metadata": {},
   "outputs": [],
   "source": [
    "masc = {\"João\", \"Pedro\", \"Mauricio\", \"Jorge\"}\n",
    "fem = {\"Olivia\", \"Ana\", \"Maria\", \"Laura\", \"Agostina\"}\n",
    "graduados = {\"João\", \"Pedro\", \"Maria\", \"Jorge\"}\n",
    "empregados = {\"Maria\", \"Laura\", \"João\", \"Pedro\"}\n"
   ]
  },
  {
   "cell_type": "code",
   "execution_count": 30,
   "metadata": {},
   "outputs": [
    {
     "data": {
      "text/plain": [
       "{'Jorge', 'João', 'Laura', 'Maria', 'Pedro'}"
      ]
     },
     "execution_count": 30,
     "metadata": {},
     "output_type": "execute_result"
    }
   ],
   "source": [
    "graduados.union(empregados)"
   ]
  },
  {
   "cell_type": "code",
   "execution_count": 32,
   "metadata": {},
   "outputs": [
    {
     "data": {
      "text/plain": [
       "{'João', 'Maria', 'Pedro'}"
      ]
     },
     "execution_count": 32,
     "metadata": {},
     "output_type": "execute_result"
    }
   ],
   "source": [
    "graduados.intersection(empregados)"
   ]
  },
  {
   "cell_type": "markdown",
   "metadata": {},
   "source": [
    "# 21/04/2020\n"
   ]
  },
  {
   "cell_type": "markdown",
   "metadata": {},
   "source": [
    "**Exceções**"
   ]
  },
  {
   "cell_type": "code",
   "execution_count": 30,
   "metadata": {},
   "outputs": [],
   "source": [
    "from math import log\n",
    "\n",
    "DIGIT_MAP = {\n",
    "    'zero': \"0\", \n",
    "    'one': \"1\",\n",
    "    'two': '2',\n",
    "    'three': '3',\n",
    "    'four': '4',\n",
    "    'five': '5',\n",
    "    'six': '6',\n",
    "    'seven': '7',\n",
    "    'eight': '8',\n",
    "    'nine': '9', \n",
    "}\n",
    "\n",
    "\n",
    "def convert(st):\n",
    "    '''converte strings em integers'''\n",
    "    \n",
    "    number = ''   \n",
    "    \n",
    "    try:\n",
    "        for token in st.split():\n",
    "            number += DIGIT_MAP[token]\n",
    "        return int(number)\n",
    "            \n",
    "    except (KeyError, AttributeError): \n",
    "        raise\n",
    "\n",
    "def string_log(st):\n",
    "    '''calcula o logaritmo natural de uma string convertida em inteiro'''\n",
    "    \n",
    "    return log(convert(st))"
   ]
  },
  {
   "cell_type": "code",
   "execution_count": 31,
   "metadata": {},
   "outputs": [
    {
     "ename": "KeyError",
     "evalue": "'eleven'",
     "output_type": "error",
     "traceback": [
      "\u001b[1;31m---------------------------------------------------------------------------\u001b[0m",
      "\u001b[1;31mKeyError\u001b[0m                                  Traceback (most recent call last)",
      "\u001b[1;32m<ipython-input-31-a814665272e1>\u001b[0m in \u001b[0;36m<module>\u001b[1;34m\u001b[0m\n\u001b[0;32m      1\u001b[0m \u001b[0mthisWorks\u001b[0m \u001b[1;33m=\u001b[0m \u001b[0mstring_log\u001b[0m\u001b[1;33m(\u001b[0m\u001b[1;34m\"one three two\"\u001b[0m\u001b[1;33m)\u001b[0m\u001b[1;33m\u001b[0m\u001b[1;33m\u001b[0m\u001b[0m\n\u001b[1;32m----> 2\u001b[1;33m \u001b[0mkeyError\u001b[0m \u001b[1;33m=\u001b[0m \u001b[0mstring_log\u001b[0m\u001b[1;33m(\u001b[0m\u001b[1;34m\"eleven\"\u001b[0m\u001b[1;33m)\u001b[0m\u001b[1;33m\u001b[0m\u001b[1;33m\u001b[0m\u001b[0m\n\u001b[0m\u001b[0;32m      3\u001b[0m \u001b[0mattError\u001b[0m \u001b[1;33m=\u001b[0m \u001b[0mstring_log\u001b[0m\u001b[1;33m(\u001b[0m\u001b[1;36m1\u001b[0m\u001b[1;33m)\u001b[0m\u001b[1;33m\u001b[0m\u001b[1;33m\u001b[0m\u001b[0m\n\u001b[0;32m      4\u001b[0m \u001b[1;33m\u001b[0m\u001b[0m\n\u001b[0;32m      5\u001b[0m \u001b[0mprint\u001b[0m\u001b[1;33m(\u001b[0m\u001b[0mthisWorks\u001b[0m\u001b[1;33m,\u001b[0m \u001b[0mkeyError\u001b[0m\u001b[1;33m,\u001b[0m \u001b[0mattError\u001b[0m\u001b[1;33m)\u001b[0m\u001b[1;33m\u001b[0m\u001b[1;33m\u001b[0m\u001b[0m\n",
      "\u001b[1;32m<ipython-input-30-bfe0c0fc448e>\u001b[0m in \u001b[0;36mstring_log\u001b[1;34m(st)\u001b[0m\n\u001b[0;32m     31\u001b[0m     \u001b[1;34m'''calcula o logaritmo natural de uma string convertida em inteiro'''\u001b[0m\u001b[1;33m\u001b[0m\u001b[1;33m\u001b[0m\u001b[0m\n\u001b[0;32m     32\u001b[0m \u001b[1;33m\u001b[0m\u001b[0m\n\u001b[1;32m---> 33\u001b[1;33m     \u001b[1;32mreturn\u001b[0m \u001b[0mlog\u001b[0m\u001b[1;33m(\u001b[0m\u001b[0mconvert\u001b[0m\u001b[1;33m(\u001b[0m\u001b[0mst\u001b[0m\u001b[1;33m)\u001b[0m\u001b[1;33m)\u001b[0m\u001b[1;33m\u001b[0m\u001b[1;33m\u001b[0m\u001b[0m\n\u001b[0m",
      "\u001b[1;32m<ipython-input-30-bfe0c0fc448e>\u001b[0m in \u001b[0;36mconvert\u001b[1;34m(st)\u001b[0m\n\u001b[0;32m     22\u001b[0m     \u001b[1;32mtry\u001b[0m\u001b[1;33m:\u001b[0m\u001b[1;33m\u001b[0m\u001b[1;33m\u001b[0m\u001b[0m\n\u001b[0;32m     23\u001b[0m         \u001b[1;32mfor\u001b[0m \u001b[0mtoken\u001b[0m \u001b[1;32min\u001b[0m \u001b[0mst\u001b[0m\u001b[1;33m.\u001b[0m\u001b[0msplit\u001b[0m\u001b[1;33m(\u001b[0m\u001b[1;33m)\u001b[0m\u001b[1;33m:\u001b[0m\u001b[1;33m\u001b[0m\u001b[1;33m\u001b[0m\u001b[0m\n\u001b[1;32m---> 24\u001b[1;33m             \u001b[0mnumber\u001b[0m \u001b[1;33m+=\u001b[0m \u001b[0mDIGIT_MAP\u001b[0m\u001b[1;33m[\u001b[0m\u001b[0mtoken\u001b[0m\u001b[1;33m]\u001b[0m\u001b[1;33m\u001b[0m\u001b[1;33m\u001b[0m\u001b[0m\n\u001b[0m\u001b[0;32m     25\u001b[0m         \u001b[1;32mreturn\u001b[0m \u001b[0mint\u001b[0m\u001b[1;33m(\u001b[0m\u001b[0mnumber\u001b[0m\u001b[1;33m)\u001b[0m\u001b[1;33m\u001b[0m\u001b[1;33m\u001b[0m\u001b[0m\n\u001b[0;32m     26\u001b[0m \u001b[1;33m\u001b[0m\u001b[0m\n",
      "\u001b[1;31mKeyError\u001b[0m: 'eleven'"
     ]
    }
   ],
   "source": [
    "thisWorks = string_log(\"one three two\")\n",
    "keyError = string_log(\"eleven\")\n",
    "attError = string_log(1)\n",
    "\n",
    "print(thisWorks, keyError, attError)"
   ]
  },
  {
   "cell_type": "markdown",
   "metadata": {},
   "source": [
    "# 22/04/2020"
   ]
  },
  {
   "cell_type": "markdown",
   "metadata": {},
   "source": [
    "**mais em exceções: except... finally**"
   ]
  },
  {
   "cell_type": "code",
   "execution_count": null,
   "metadata": {},
   "outputs": [],
   "source": [
    "import os\n",
    "import sys\n",
    "\n",
    "def make_at(path, dir_name):\n",
    "    \n",
    "    original_path = os.getcwd()\n",
    "    os.chdir(path)\n",
    "    \n",
    "    try:\n",
    "        os.mkdir(dir_name)\n",
    "        \n",
    "    except OSError as e:\n",
    "        print(e, file = sys.stderr)\n",
    "        raise\n",
    "#tudo que estiver no finally é executado apesar da exceção       \n",
    "    finally: \n",
    "        os.chdir(original_path)\n"
   ]
  },
  {
   "cell_type": "markdown",
   "metadata": {},
   "source": [
    "**Comprehensions**"
   ]
  },
  {
   "cell_type": "code",
   "execution_count": 1,
   "metadata": {},
   "outputs": [
    {
     "data": {
      "text/plain": [
       "[8.18535277187245, 55.308227236099334]"
      ]
     },
     "execution_count": 1,
     "metadata": {},
     "output_type": "execute_result"
    }
   ],
   "source": [
    "lista = [1, 2, 4, 6, 67, 3059]\n",
    "\n",
    "#a expressão abaixo retorna a raiz quadrada de x para cada elemento da lista que for maior do que 10\n",
    "#saída / iteração / condição (opcional)\n",
    "\n",
    "[x ** 0.5 for x in lista if x > 10]\n"
   ]
  },
  {
   "cell_type": "code",
   "execution_count": 2,
   "metadata": {},
   "outputs": [
    {
     "data": {
      "text/plain": [
       "{1, 7}"
      ]
     },
     "execution_count": 2,
     "metadata": {},
     "output_type": "execute_result"
    }
   ],
   "source": [
    "lista = [1, 1, 4, 6 ,7 ,7 ,10]\n",
    "\n",
    "#a expressão abaixo retorna os números pares da lista no formato do tipo set, evitando repetição \n",
    "{x for x in lista if x % 2 != 0}"
   ]
  },
  {
   "cell_type": "code",
   "execution_count": 5,
   "metadata": {},
   "outputs": [
    {
     "data": {
      "text/plain": [
       "{'victor': 23, 'maria': 19}"
      ]
     },
     "execution_count": 5,
     "metadata": {},
     "output_type": "execute_result"
    }
   ],
   "source": [
    "dicio = {'ana': 16, 'victor': 23, 'maria': 19}\n",
    "\n",
    "#esta itera sobre chaves e valores do dicionário, retornando os pares cujo valor for maior que 18bb\n",
    "{\n",
    "    nome: idade \n",
    "    for nome, idade in dicio.items()\n",
    "    if idade >= 18\n",
    "}"
   ]
  },
  {
   "cell_type": "markdown",
   "metadata": {},
   "source": [
    "# 23/04/2020\n"
   ]
  },
  {
   "cell_type": "markdown",
   "metadata": {},
   "source": [
    "**Numpy básico**"
   ]
  },
  {
   "cell_type": "code",
   "execution_count": 2,
   "metadata": {},
   "outputs": [],
   "source": [
    "import numpy as np\n",
    "#os arrays do pacote Numpy são similares a listas \n",
    "\n",
    "lista = [1, 2, 3, 4]\n",
    "np_array = np.array([1,2,3,4])\n"
   ]
  },
  {
   "cell_type": "code",
   "execution_count": 4,
   "metadata": {},
   "outputs": [
    {
     "name": "stdout",
     "output_type": "stream",
     "text": [
      "lista * 3: [1, 2, 3, 4, 1, 2, 3, 4, 1, 2, 3, 4]\n",
      "array * 3: [ 3  6  9 12]\n"
     ]
    }
   ],
   "source": [
    "#mas se comportam de maneira diferente (feito conjuntos) em operações\n",
    "\n",
    "print(f'lista * 3: {lista * 3}\\narray * 3: {np_array * 3}')\n"
   ]
  },
  {
   "cell_type": "code",
   "execution_count": 7,
   "metadata": {},
   "outputs": [
    {
     "name": "stdout",
     "output_type": "stream",
     "text": [
      "[False  True  True  True]\n"
     ]
    },
    {
     "data": {
      "text/plain": [
       "array([ 6,  9, 12])"
      ]
     },
     "execution_count": 7,
     "metadata": {},
     "output_type": "execute_result"
    }
   ],
   "source": [
    "#arrays também permitem subsettings baseados em condições (filtros)\n",
    "\n",
    "np_array = np.array([3, 6, 9, 12])\n",
    "\n",
    "print(np_array > 3)\n",
    "\n",
    "np_array[np_array > 3]"
   ]
  },
  {
   "cell_type": "markdown",
   "metadata": {},
   "source": [
    "# 25/04/2020"
   ]
  },
  {
   "cell_type": "markdown",
   "metadata": {},
   "source": [
    "**Pandas DataFrames**"
   ]
  },
  {
   "cell_type": "code",
   "execution_count": 12,
   "metadata": {},
   "outputs": [
    {
     "data": {
      "text/html": [
       "<div>\n",
       "<style scoped>\n",
       "    .dataframe tbody tr th:only-of-type {\n",
       "        vertical-align: middle;\n",
       "    }\n",
       "\n",
       "    .dataframe tbody tr th {\n",
       "        vertical-align: top;\n",
       "    }\n",
       "\n",
       "    .dataframe thead th {\n",
       "        text-align: right;\n",
       "    }\n",
       "</style>\n",
       "<table border=\"1\" class=\"dataframe\">\n",
       "  <thead>\n",
       "    <tr style=\"text-align: right;\">\n",
       "      <th></th>\n",
       "      <th>artist</th>\n",
       "      <th>album</th>\n",
       "      <th>track_title</th>\n",
       "      <th>track_n</th>\n",
       "      <th>lyric</th>\n",
       "      <th>line</th>\n",
       "      <th>year</th>\n",
       "    </tr>\n",
       "  </thead>\n",
       "  <tbody>\n",
       "    <tr>\n",
       "      <th>0</th>\n",
       "      <td>Taylor Swift</td>\n",
       "      <td>Taylor Swift</td>\n",
       "      <td>Tim McGraw</td>\n",
       "      <td>1</td>\n",
       "      <td>He said the way my blue eyes shined</td>\n",
       "      <td>1</td>\n",
       "      <td>2006</td>\n",
       "    </tr>\n",
       "    <tr>\n",
       "      <th>1</th>\n",
       "      <td>Taylor Swift</td>\n",
       "      <td>Taylor Swift</td>\n",
       "      <td>Tim McGraw</td>\n",
       "      <td>1</td>\n",
       "      <td>Put those Georgia stars to shame that night</td>\n",
       "      <td>2</td>\n",
       "      <td>2006</td>\n",
       "    </tr>\n",
       "    <tr>\n",
       "      <th>2</th>\n",
       "      <td>Taylor Swift</td>\n",
       "      <td>Taylor Swift</td>\n",
       "      <td>Tim McGraw</td>\n",
       "      <td>1</td>\n",
       "      <td>I said, \"That's a lie\"</td>\n",
       "      <td>3</td>\n",
       "      <td>2006</td>\n",
       "    </tr>\n",
       "    <tr>\n",
       "      <th>3</th>\n",
       "      <td>Taylor Swift</td>\n",
       "      <td>Taylor Swift</td>\n",
       "      <td>Tim McGraw</td>\n",
       "      <td>1</td>\n",
       "      <td>Just a boy in a Chevy truck</td>\n",
       "      <td>4</td>\n",
       "      <td>2006</td>\n",
       "    </tr>\n",
       "    <tr>\n",
       "      <th>4</th>\n",
       "      <td>Taylor Swift</td>\n",
       "      <td>Taylor Swift</td>\n",
       "      <td>Tim McGraw</td>\n",
       "      <td>1</td>\n",
       "      <td>That had a tendency of gettin' stuck</td>\n",
       "      <td>5</td>\n",
       "      <td>2006</td>\n",
       "    </tr>\n",
       "    <tr>\n",
       "      <th>...</th>\n",
       "      <td>...</td>\n",
       "      <td>...</td>\n",
       "      <td>...</td>\n",
       "      <td>...</td>\n",
       "      <td>...</td>\n",
       "      <td>...</td>\n",
       "      <td>...</td>\n",
       "    </tr>\n",
       "    <tr>\n",
       "      <th>4857</th>\n",
       "      <td>Taylor Swift</td>\n",
       "      <td>reputation</td>\n",
       "      <td>New Year's Day</td>\n",
       "      <td>15</td>\n",
       "      <td>(Hold on to the memories, they will hold on to...</td>\n",
       "      <td>43</td>\n",
       "      <td>2017</td>\n",
       "    </tr>\n",
       "    <tr>\n",
       "      <th>4858</th>\n",
       "      <td>Taylor Swift</td>\n",
       "      <td>reputation</td>\n",
       "      <td>New Year's Day</td>\n",
       "      <td>15</td>\n",
       "      <td>Please don't ever become a stranger</td>\n",
       "      <td>44</td>\n",
       "      <td>2017</td>\n",
       "    </tr>\n",
       "    <tr>\n",
       "      <th>4859</th>\n",
       "      <td>Taylor Swift</td>\n",
       "      <td>reputation</td>\n",
       "      <td>New Year's Day</td>\n",
       "      <td>15</td>\n",
       "      <td>(Hold on to the memories, they will hold on to...</td>\n",
       "      <td>45</td>\n",
       "      <td>2017</td>\n",
       "    </tr>\n",
       "    <tr>\n",
       "      <th>4860</th>\n",
       "      <td>Taylor Swift</td>\n",
       "      <td>reputation</td>\n",
       "      <td>New Year's Day</td>\n",
       "      <td>15</td>\n",
       "      <td>Whose laugh I could recognize anywhere</td>\n",
       "      <td>46</td>\n",
       "      <td>2017</td>\n",
       "    </tr>\n",
       "    <tr>\n",
       "      <th>4861</th>\n",
       "      <td>Taylor Swift</td>\n",
       "      <td>reputation</td>\n",
       "      <td>New Year's Day</td>\n",
       "      <td>15</td>\n",
       "      <td>(I will hold on to you)</td>\n",
       "      <td>47</td>\n",
       "      <td>2017</td>\n",
       "    </tr>\n",
       "  </tbody>\n",
       "</table>\n",
       "<p>4862 rows × 7 columns</p>\n",
       "</div>"
      ],
      "text/plain": [
       "            artist         album     track_title  track_n  \\\n",
       "0     Taylor Swift  Taylor Swift      Tim McGraw        1   \n",
       "1     Taylor Swift  Taylor Swift      Tim McGraw        1   \n",
       "2     Taylor Swift  Taylor Swift      Tim McGraw        1   \n",
       "3     Taylor Swift  Taylor Swift      Tim McGraw        1   \n",
       "4     Taylor Swift  Taylor Swift      Tim McGraw        1   \n",
       "...            ...           ...             ...      ...   \n",
       "4857  Taylor Swift    reputation  New Year's Day       15   \n",
       "4858  Taylor Swift    reputation  New Year's Day       15   \n",
       "4859  Taylor Swift    reputation  New Year's Day       15   \n",
       "4860  Taylor Swift    reputation  New Year's Day       15   \n",
       "4861  Taylor Swift    reputation  New Year's Day       15   \n",
       "\n",
       "                                                  lyric  line  year  \n",
       "0                   He said the way my blue eyes shined     1  2006  \n",
       "1           Put those Georgia stars to shame that night     2  2006  \n",
       "2                                I said, \"That's a lie\"     3  2006  \n",
       "3                           Just a boy in a Chevy truck     4  2006  \n",
       "4                  That had a tendency of gettin' stuck     5  2006  \n",
       "...                                                 ...   ...   ...  \n",
       "4857  (Hold on to the memories, they will hold on to...    43  2017  \n",
       "4858                Please don't ever become a stranger    44  2017  \n",
       "4859  (Hold on to the memories, they will hold on to...    45  2017  \n",
       "4860             Whose laugh I could recognize anywhere    46  2017  \n",
       "4861                            (I will hold on to you)    47  2017  \n",
       "\n",
       "[4862 rows x 7 columns]"
      ]
     },
     "execution_count": 12,
     "metadata": {},
     "output_type": "execute_result"
    }
   ],
   "source": [
    "import pandas as pd\n",
    "\n",
    "taylor_swift = pd.read_csv('/home/jpalma/Documents/datasets/taylor_swift/taylor_swift.csv', encoding = 'latin-1')\n",
    "\n",
    "taylor_swift"
   ]
  },
  {
   "cell_type": "code",
   "execution_count": 28,
   "metadata": {},
   "outputs": [
    {
     "name": "stdout",
     "output_type": "stream",
     "text": [
      "<class 'pandas.core.frame.DataFrame'>\n"
     ]
    }
   ],
   "source": [
    "#indexa elementos pela posição, começando do 0\n",
    "\n",
    "#o índice pode ser um numero, uma lista de numeros, um array booleano ou \n",
    "#um objeto slice (e.g: 1:7)\n",
    "\n",
    "taylor_swift.iloc[\n",
    "    #rows \n",
    "    0:6,\n",
    "    #collumns \n",
    "    0:4\n",
    "]\n",
    "\n",
    "print(type(taylor_swift[[\"track_n\"]]))"
   ]
  },
  {
   "cell_type": "code",
   "execution_count": 38,
   "metadata": {},
   "outputs": [
    {
     "data": {
      "text/plain": [
       "0                   He said the way my blue eyes shined\n",
       "1           Put those Georgia stars to shame that night\n",
       "2                                I said, \"That's a lie\"\n",
       "3                           Just a boy in a Chevy truck\n",
       "4                  That had a tendency of gettin' stuck\n",
       "5                                 On backroads at night\n",
       "6      And I was right there beside him all summer long\n",
       "7     And then the time we woke up to find that summ...\n",
       "8                         But when you think Tim McGraw\n",
       "9                     I hope you think my favorite song\n",
       "10                  The one we danced to all night long\n",
       "11                The moon like a spotlight on the lake\n",
       "12                             When you think happiness\n",
       "13             I hope you think that little black dress\n",
       "14                       Think of my head on your chest\n",
       "15                          And my old faded blue jeans\n",
       "16                            When you think Tim McGraw\n",
       "17                               I hope you think of me\n",
       "18                       September saw a month of tears\n",
       "19               And thankin' God that you weren't here\n",
       "20                                  To see me like that\n",
       "21                          But in a box beneath my bed\n",
       "22                      Is a letter that you never read\n",
       "23                              From three summers back\n",
       "24    It's hard not to find it all a little bittersweet\n",
       "25    And lookin' back on all of that, it's nice to ...\n",
       "26                            When you think Tim McGraw\n",
       "27                    I hope you think my favorite song\n",
       "28                  The one we danced to all night long\n",
       "29                The moon like a spotlight on the lake\n",
       "30                             When you think happiness\n",
       "31             I hope you think that little black dress\n",
       "32                       Think of my head on your chest\n",
       "33                          And my old faded blue jeans\n",
       "34                            When you think Tim McGraw\n",
       "35                               I hope you think of me\n",
       "36           And I'm back for the first time since then\n",
       "37                          I'm standin' on your street\n",
       "38           And there's a letter left on your doorstep\n",
       "39             And the first thing that you'll read is:\n",
       "40                           \"When you think Tim McGraw\n",
       "41                    I hope you think my favorite song\n",
       "42                    Someday you'll turn your radio on\n",
       "43              I hope it takes you back to that place\"\n",
       "44                             When you think happiness\n",
       "45             I hope you think that little black dress\n",
       "46                       Think of my head on your chest\n",
       "47                          And my old faded blue jeans\n",
       "48                            When you think Tim McGraw\n",
       "49                               I hope you think of me\n",
       "50                                      Oh, think of me\n",
       "51                                                 Mmmm\n",
       "52                   He said the way my blue eyes shine\n",
       "53          Put those Georgia stars to shame that night\n",
       "54                               I said, \"That's a lie\"\n",
       "Name: lyric, dtype: object"
      ]
     },
     "execution_count": 38,
     "metadata": {},
     "output_type": "execute_result"
    }
   ],
   "source": [
    "#indexa por label. Mesmas regras do iloc se aplicam\n",
    "\n",
    "taylor_swift.loc[\n",
    "    taylor_swift['track_title'] == 'Tim McGraw',\n",
    "    'lyric'\n",
    "]"
   ]
  },
  {
   "cell_type": "code",
   "execution_count": 58,
   "metadata": {},
   "outputs": [],
   "source": [
    "#para filtrar data frames por duas condições, um modo é utilizar a função logical_and \n",
    "from numpy import logical_and as logand\n",
    "\n",
    "tim_mcgraw = taylor_swift.loc[logand(\n",
    "    taylor_swift['album'] == 'Taylor Swift',\n",
    "    taylor_swift['track_n'] == 1\n",
    "    ),\n",
    "    'lyric'\n",
    "]\n",
    "\n"
   ]
  },
  {
   "cell_type": "code",
   "execution_count": 78,
   "metadata": {},
   "outputs": [],
   "source": [
    "lines = []\n",
    "for i in tim_mcgraw:\n",
    "    lines.append(i)\n"
   ]
  },
  {
   "cell_type": "code",
   "execution_count": 95,
   "metadata": {},
   "outputs": [
    {
     "data": {
      "text/html": [
       "<div>\n",
       "<style scoped>\n",
       "    .dataframe tbody tr th:only-of-type {\n",
       "        vertical-align: middle;\n",
       "    }\n",
       "\n",
       "    .dataframe tbody tr th {\n",
       "        vertical-align: top;\n",
       "    }\n",
       "\n",
       "    .dataframe thead th {\n",
       "        text-align: right;\n",
       "    }\n",
       "</style>\n",
       "<table border=\"1\" class=\"dataframe\">\n",
       "  <thead>\n",
       "    <tr style=\"text-align: right;\">\n",
       "      <th></th>\n",
       "      <th>word</th>\n",
       "      <th>count</th>\n",
       "    </tr>\n",
       "  </thead>\n",
       "  <tbody>\n",
       "    <tr>\n",
       "      <th>0</th>\n",
       "      <td>night</td>\n",
       "      <td>5</td>\n",
       "    </tr>\n",
       "    <tr>\n",
       "      <th>1</th>\n",
       "      <td>he</td>\n",
       "      <td>32</td>\n",
       "    </tr>\n",
       "    <tr>\n",
       "      <th>2</th>\n",
       "      <td>said</td>\n",
       "      <td>4</td>\n",
       "    </tr>\n",
       "    <tr>\n",
       "      <th>3</th>\n",
       "      <td>love</td>\n",
       "      <td>0</td>\n",
       "    </tr>\n",
       "  </tbody>\n",
       "</table>\n",
       "</div>"
      ],
      "text/plain": [
       "    word  count\n",
       "0  night      5\n",
       "1     he     32\n",
       "2   said      4\n",
       "3   love      0"
      ]
     },
     "execution_count": 95,
     "metadata": {},
     "output_type": "execute_result"
    }
   ],
   "source": [
    "words = {\n",
    "    'word':['night', 'he', 'said', 'love'],\n",
    "    'count': ['\\n'.join(lines).count('night'),'\\n'.join(lines).count('he'),'\\n'.join(lines).count('said'),'\\n'.join(lines).count('love')]\n",
    "}\n",
    "\n",
    "words_df = pd.DataFrame.from_dict(words, orient = 'columns')\n",
    "words_df\n",
    "    "
   ]
  },
  {
   "cell_type": "markdown",
   "metadata": {},
   "source": [
    "**Matplotlib básico**"
   ]
  },
  {
   "cell_type": "code",
   "execution_count": 100,
   "metadata": {},
   "outputs": [
    {
     "data": {
      "image/png": "[encoded data removed]",
      "text/plain": [
       "<Figure size 432x288 with 1 Axes>"
      ]
     },
     "metadata": {
      "needs_background": "light"
     },
     "output_type": "display_data"
    }
   ],
   "source": [
    "import matplotlib.pyplot as plt\n",
    "\n",
    "plt.bar(words['word'], height = words['count'])\n",
    "plt.show()"
   ]
  },
  {
   "cell_type": "markdown",
   "metadata": {},
   "source": [
    "# 27/04/2020"
   ]
  },
  {
   "cell_type": "markdown",
   "metadata": {},
   "source": [
    "**Iteráveis e Iteradores**"
   ]
  },
  {
   "cell_type": "code",
   "execution_count": 45,
   "metadata": {},
   "outputs": [],
   "source": [
    "from numpy.random import randint\n",
    "\n",
    "lista = list(np.random.randint(low = 0, high = 100, size = 10))\n",
    "lista2 = 'a b c d e f g h i'.split(sep=' ')"
   ]
  },
  {
   "cell_type": "code",
   "execution_count": 33,
   "metadata": {},
   "outputs": [],
   "source": [
    "#função iter gera objeto iterador similar ao output da função range()\n",
    "\n",
    "iterador = iter(lista)"
   ]
  },
  {
   "cell_type": "code",
   "execution_count": 16,
   "metadata": {},
   "outputs": [
    {
     "data": {
      "text/plain": [
       "[54, 98, 14, 80, 13, 45, 65, 35, 51, 38]"
      ]
     },
     "execution_count": 16,
     "metadata": {},
     "output_type": "execute_result"
    }
   ],
   "source": [
    "#para converter iteradores em listas\n",
    "\n",
    "list(iterador)"
   ]
  },
  {
   "cell_type": "code",
   "execution_count": 25,
   "metadata": {},
   "outputs": [
    {
     "data": {
      "text/plain": [
       "13"
      ]
     },
     "execution_count": 25,
     "metadata": {},
     "output_type": "execute_result"
    }
   ],
   "source": [
    "#para acessar o proximo item do iterador\n",
    "\n",
    "next(iterador)"
   ]
  },
  {
   "cell_type": "code",
   "execution_count": 34,
   "metadata": {},
   "outputs": [
    {
     "name": "stdout",
     "output_type": "stream",
     "text": [
      "54\n",
      "98\n",
      "14\n",
      "80\n",
      "13\n",
      "45\n",
      "65\n",
      "35\n",
      "51\n",
      "38\n"
     ]
    },
    {
     "ename": "StopIteration",
     "evalue": "",
     "output_type": "error",
     "traceback": [
      "\u001b[0;31m---------------------------------------------------------------------------\u001b[0m",
      "\u001b[0;31mStopIteration\u001b[0m                             Traceback (most recent call last)",
      "\u001b[0;32m<ipython-input-34-6625dc3fa133>\u001b[0m in \u001b[0;36m<module>\u001b[0;34m\u001b[0m\n\u001b[1;32m      1\u001b[0m \u001b[0;31m#as estruturas a seguir são similares\u001b[0m\u001b[0;34m\u001b[0m\u001b[0;34m\u001b[0m\u001b[0;34m\u001b[0m\u001b[0m\n\u001b[1;32m      2\u001b[0m \u001b[0;32mwhile\u001b[0m \u001b[0;32mTrue\u001b[0m\u001b[0;34m:\u001b[0m\u001b[0;34m\u001b[0m\u001b[0;34m\u001b[0m\u001b[0m\n\u001b[0;32m----> 3\u001b[0;31m     \u001b[0mprint\u001b[0m\u001b[0;34m(\u001b[0m\u001b[0mnext\u001b[0m\u001b[0;34m(\u001b[0m\u001b[0miterador\u001b[0m\u001b[0;34m)\u001b[0m\u001b[0;34m)\u001b[0m\u001b[0;34m\u001b[0m\u001b[0;34m\u001b[0m\u001b[0m\n\u001b[0m\u001b[1;32m      4\u001b[0m \u001b[0;34m\u001b[0m\u001b[0m\n\u001b[1;32m      5\u001b[0m \u001b[0;32mfor\u001b[0m \u001b[0mi\u001b[0m \u001b[0;32min\u001b[0m \u001b[0mlista\u001b[0m\u001b[0;34m:\u001b[0m\u001b[0;34m\u001b[0m\u001b[0;34m\u001b[0m\u001b[0m\n",
      "\u001b[0;31mStopIteration\u001b[0m: "
     ]
    }
   ],
   "source": [
    "#ao exaurir o iterador, a função next retornará a exceção StopIteration\n",
    "\n",
    "while True:\n",
    "    print(next(iterador))\n",
    "    "
   ]
  },
  {
   "cell_type": "markdown",
   "metadata": {},
   "source": [
    "**Algebra de iteradores com funções built-in**"
   ]
  },
  {
   "cell_type": "code",
   "execution_count": 37,
   "metadata": {},
   "outputs": [],
   "source": [
    "'''O que acontece aqui é:\n",
    "\n",
    "        <it> é uma lista com um número <n> de referências, todas apontando para\n",
    "        um mesmo iterador da lista recebida como argumento. \n",
    "        \n",
    "        A função zip cria um iterador sobre o objeto <it>, o qual retornará a cada vez uma tupla de tamanho <n> \n",
    "        contendo os resultados de <inputs>. \n",
    "         \n",
    "        '''\n",
    "\n",
    "def grouper(inputs, n):\n",
    "    it = [iter(inputs)] * n \n",
    "    return zip(*iteradores)"
   ]
  },
  {
   "cell_type": "code",
   "execution_count": 40,
   "metadata": {},
   "outputs": [
    {
     "data": {
      "text/plain": [
       "[(54, 98), (14, 80), (13, 45), (65, 35), (51, 38)]"
      ]
     },
     "execution_count": 40,
     "metadata": {},
     "output_type": "execute_result"
    }
   ],
   "source": [
    "#ao listar o retorno da função acima, obtemos: \n",
    "\n",
    "list(grouper(lista, 2))"
   ]
  },
  {
   "cell_type": "code",
   "execution_count": 41,
   "metadata": {},
   "outputs": [
    {
     "data": {
      "text/plain": [
       "[(54, 98, 14), (80, 13, 45), (65, 35, 51)]"
      ]
     },
     "execution_count": 41,
     "metadata": {},
     "output_type": "execute_result"
    }
   ],
   "source": [
    "# se o número de elementos de <inputs> não for divisível por <n>, a função zip irá ignorar o resto (nesse caso, o número 38)\n",
    "\n",
    "list(grouper(lista, 3))"
   ]
  },
  {
   "cell_type": "markdown",
   "metadata": {},
   "source": [
    "."
   ]
  },
  {
   "cell_type": "markdown",
   "metadata": {},
   "source": [
    "**Algebra de iteradores com Itertools**"
   ]
  },
  {
   "cell_type": "code",
   "execution_count": 49,
   "metadata": {},
   "outputs": [
    {
     "data": {
      "text/plain": [
       "[(62, 'a'),\n",
       " (35, 'b'),\n",
       " (69, 'c'),\n",
       " (74, 'd'),\n",
       " (6, 'e'),\n",
       " (69, 'f'),\n",
       " (91, 'g'),\n",
       " (42, 'h'),\n",
       " (33, 'i'),\n",
       " (18, None)]"
      ]
     },
     "execution_count": 49,
     "metadata": {},
     "output_type": "execute_result"
    }
   ],
   "source": [
    "from itertools import zip_longest \n",
    "\n",
    "#a função zip_longest lida com os valores sem par agrupando-os com None\n",
    "\n",
    "list(zip_longest(lista, lista2))"
   ]
  },
  {
   "cell_type": "markdown",
   "metadata": {},
   "source": [
    "# 28/04/2020"
   ]
  },
  {
   "cell_type": "markdown",
   "metadata": {},
   "source": [
    "**Classes**"
   ]
  },
  {
   "cell_type": "code",
   "execution_count": null,
   "metadata": {},
   "outputs": [],
   "source": [
    "class Voo:\n",
    "    \n",
    "    def __init__(self, number, aeronave):\n",
    "        \n",
    "        if not number[2:].isalpha():\n",
    "            raise ValueError(f'Sem codigo de voo em {number}')\n",
    "        if not numbe[2:]"
   ]
  },
  {
   "cell_type": "markdown",
   "metadata": {},
   "source": [
    "# 12/05/2020"
   ]
  },
  {
   "cell_type": "markdown",
   "metadata": {},
   "source": [
    "**Limpando dados com Pandas**"
   ]
  },
  {
   "cell_type": "code",
   "execution_count": 3,
   "metadata": {},
   "outputs": [
    {
     "data": {
      "text/html": [
       "<div>\n",
       "<style scoped>\n",
       "    .dataframe tbody tr th:only-of-type {\n",
       "        vertical-align: middle;\n",
       "    }\n",
       "\n",
       "    .dataframe tbody tr th {\n",
       "        vertical-align: top;\n",
       "    }\n",
       "\n",
       "    .dataframe thead th {\n",
       "        text-align: right;\n",
       "    }\n",
       "</style>\n",
       "<table border=\"1\" class=\"dataframe\">\n",
       "  <thead>\n",
       "    <tr style=\"text-align: right;\">\n",
       "      <th></th>\n",
       "      <th>year_month_day</th>\n",
       "      <th>frac_year</th>\n",
       "      <th>total</th>\n",
       "      <th>st_dev</th>\n",
       "      <th>num_obs</th>\n",
       "      <th>definitive</th>\n",
       "    </tr>\n",
       "  </thead>\n",
       "  <tbody>\n",
       "    <tr>\n",
       "      <th>0</th>\n",
       "      <td>date,total,definitive,st_dev nan nan</td>\n",
       "      <td>NaN</td>\n",
       "      <td>NaN</td>\n",
       "      <td>NaN</td>\n",
       "      <td>NaN</td>\n",
       "      <td>NaN</td>\n",
       "    </tr>\n",
       "    <tr>\n",
       "      <th>1</th>\n",
       "      <td>1818-01-01,,1, nan nan</td>\n",
       "      <td>NaN</td>\n",
       "      <td>NaN</td>\n",
       "      <td>NaN</td>\n",
       "      <td>NaN</td>\n",
       "      <td>NaN</td>\n",
       "    </tr>\n",
       "    <tr>\n",
       "      <th>2</th>\n",
       "      <td>1818-01-02,,1, nan nan</td>\n",
       "      <td>NaN</td>\n",
       "      <td>NaN</td>\n",
       "      <td>NaN</td>\n",
       "      <td>NaN</td>\n",
       "      <td>NaN</td>\n",
       "    </tr>\n",
       "  </tbody>\n",
       "</table>\n",
       "</div>"
      ],
      "text/plain": [
       "                         year_month_day  frac_year  total  st_dev  num_obs  \\\n",
       "0  date,total,definitive,st_dev nan nan        NaN    NaN     NaN      NaN   \n",
       "1                1818-01-01,,1, nan nan        NaN    NaN     NaN      NaN   \n",
       "2                1818-01-02,,1, nan nan        NaN    NaN     NaN      NaN   \n",
       "\n",
       "   definitive  \n",
       "0         NaN  \n",
       "1         NaN  \n",
       "2         NaN  "
      ]
     },
     "execution_count": 3,
     "metadata": {},
     "output_type": "execute_result"
    }
   ],
   "source": [
    "import pandas as pd\n",
    "\n",
    "#trocando -1 por NaN através do argumento na_values da função read_csv\n",
    "\n",
    "sunspots = pd.read_csv(\"/home/jpalma/Documents/datasets/silso_sunspots/sunspots.csv\", \n",
    "                      names = [\"year\", \"month\", \"day\", 'frac_year', 'total', 'st_dev', 'num_obs', 'definitive'],\n",
    "                      na_values = ' -1', sep=';',\n",
    "                      parse_dates = [[0,1,2]] )\n",
    "\n",
    "sunspots.head(3)"
   ]
  },
  {
   "cell_type": "code",
   "execution_count": 4,
   "metadata": {},
   "outputs": [
    {
     "data": {
      "text/html": [
       "<div>\n",
       "<style scoped>\n",
       "    .dataframe tbody tr th:only-of-type {\n",
       "        vertical-align: middle;\n",
       "    }\n",
       "\n",
       "    .dataframe tbody tr th {\n",
       "        vertical-align: top;\n",
       "    }\n",
       "\n",
       "    .dataframe thead th {\n",
       "        text-align: right;\n",
       "    }\n",
       "</style>\n",
       "<table border=\"1\" class=\"dataframe\">\n",
       "  <thead>\n",
       "    <tr style=\"text-align: right;\">\n",
       "      <th></th>\n",
       "      <th>year_month_day</th>\n",
       "      <th>frac_year</th>\n",
       "      <th>total</th>\n",
       "      <th>st_dev</th>\n",
       "      <th>num_obs</th>\n",
       "      <th>definitive</th>\n",
       "    </tr>\n",
       "  </thead>\n",
       "  <tbody>\n",
       "    <tr>\n",
       "      <th>0</th>\n",
       "      <td>date,total,definitive,st_dev nan nan</td>\n",
       "      <td>NaN</td>\n",
       "      <td>NaN</td>\n",
       "      <td>NaN</td>\n",
       "      <td>NaN</td>\n",
       "      <td>NaN</td>\n",
       "    </tr>\n",
       "    <tr>\n",
       "      <th>1</th>\n",
       "      <td>1818-01-01,,1, nan nan</td>\n",
       "      <td>NaN</td>\n",
       "      <td>NaN</td>\n",
       "      <td>NaN</td>\n",
       "      <td>NaN</td>\n",
       "      <td>NaN</td>\n",
       "    </tr>\n",
       "    <tr>\n",
       "      <th>2</th>\n",
       "      <td>1818-01-02,,1, nan nan</td>\n",
       "      <td>NaN</td>\n",
       "      <td>NaN</td>\n",
       "      <td>NaN</td>\n",
       "      <td>NaN</td>\n",
       "      <td>NaN</td>\n",
       "    </tr>\n",
       "    <tr>\n",
       "      <th>3</th>\n",
       "      <td>1818-01-03,,1, nan nan</td>\n",
       "      <td>NaN</td>\n",
       "      <td>NaN</td>\n",
       "      <td>NaN</td>\n",
       "      <td>NaN</td>\n",
       "      <td>NaN</td>\n",
       "    </tr>\n",
       "    <tr>\n",
       "      <th>4</th>\n",
       "      <td>1818-01-04,,1, nan nan</td>\n",
       "      <td>NaN</td>\n",
       "      <td>NaN</td>\n",
       "      <td>NaN</td>\n",
       "      <td>NaN</td>\n",
       "      <td>NaN</td>\n",
       "    </tr>\n",
       "  </tbody>\n",
       "</table>\n",
       "</div>"
      ],
      "text/plain": [
       "                         year_month_day  frac_year  total  st_dev  num_obs  \\\n",
       "0  date,total,definitive,st_dev nan nan        NaN    NaN     NaN      NaN   \n",
       "1                1818-01-01,,1, nan nan        NaN    NaN     NaN      NaN   \n",
       "2                1818-01-02,,1, nan nan        NaN    NaN     NaN      NaN   \n",
       "3                1818-01-03,,1, nan nan        NaN    NaN     NaN      NaN   \n",
       "4                1818-01-04,,1, nan nan        NaN    NaN     NaN      NaN   \n",
       "\n",
       "   definitive  \n",
       "0         NaN  \n",
       "1         NaN  \n",
       "2         NaN  \n",
       "3         NaN  \n",
       "4         NaN  "
      ]
     },
     "execution_count": 4,
     "metadata": {},
     "output_type": "execute_result"
    }
   ],
   "source": [
    "#como havia um espaço antes do -1 contido na coluna st_dev, \n",
    "#temos que trocar -1 por NaN manualmente na coluna total\n",
    "\n",
    "from numpy import nan \n",
    "\n",
    "na = sunspots['total'] == -1 \n",
    "sunspots.loc[na, 'total'] = nan\n",
    "\n",
    "sunspots.info()"
   ]
  },
  {
   "cell_type": "code",
   "execution_count": 27,
   "metadata": {},
   "outputs": [
    {
     "name": "stdout",
     "output_type": "stream",
     "text": [
      "<class 'pandas.core.frame.DataFrame'>\n",
      "RangeIndex: 73900 entries, 0 to 73899\n",
      "Data columns (total 6 columns):\n",
      " #   Column          Non-Null Count  Dtype         \n",
      "---  ------          --------------  -----         \n",
      " 0   year_month_day  73900 non-null  datetime64[ns]\n",
      " 1   frac_year       73900 non-null  float64       \n",
      " 2   total           70653 non-null  float64       \n",
      " 3   st_dev          70653 non-null  float64       \n",
      " 4   num_obs         73900 non-null  int64         \n",
      " 5   definitive      73900 non-null  int64         \n",
      "dtypes: datetime64[ns](1), float64(3), int64(2)\n",
      "memory usage: 3.4 MB\n"
     ]
    }
   ],
   "source": [
    "sunspots.info()"
   ]
  },
  {
   "cell_type": "code",
   "execution_count": 36,
   "metadata": {},
   "outputs": [
    {
     "name": "stdout",
     "output_type": "stream",
     "text": [
      "<class 'pandas.core.frame.DataFrame'>\n",
      "DatetimeIndex: 73900 entries, 1818-01-01 to 2020-04-30\n",
      "Data columns (total 6 columns):\n",
      " #   Column          Non-Null Count  Dtype         \n",
      "---  ------          --------------  -----         \n",
      " 0   year_month_day  73900 non-null  datetime64[ns]\n",
      " 1   frac_year       73900 non-null  float64       \n",
      " 2   total           70653 non-null  float64       \n",
      " 3   st_dev          70653 non-null  float64       \n",
      " 4   num_obs         73900 non-null  int64         \n",
      " 5   definitive      73900 non-null  int64         \n",
      "dtypes: datetime64[ns](1), float64(3), int64(2)\n",
      "memory usage: 3.9 MB\n"
     ]
    }
   ],
   "source": [
    "#utilizar a data como indice do dataframe é mais coerente\n",
    "\n",
    "sunspots.index = sunspots['year_month_day']\n",
    "sunspots.index.name = 'date'\n",
    "sunspots.info()"
   ]
  },
  {
   "cell_type": "code",
   "execution_count": 8,
   "metadata": {},
   "outputs": [
    {
     "data": {
      "text/html": [
       "<div>\n",
       "<style scoped>\n",
       "    .dataframe tbody tr th:only-of-type {\n",
       "        vertical-align: middle;\n",
       "    }\n",
       "\n",
       "    .dataframe tbody tr th {\n",
       "        vertical-align: top;\n",
       "    }\n",
       "\n",
       "    .dataframe thead th {\n",
       "        text-align: right;\n",
       "    }\n",
       "</style>\n",
       "<table border=\"1\" class=\"dataframe\">\n",
       "  <thead>\n",
       "    <tr style=\"text-align: right;\">\n",
       "      <th></th>\n",
       "      <th>total</th>\n",
       "      <th>definitive</th>\n",
       "      <th>st_dev</th>\n",
       "    </tr>\n",
       "  </thead>\n",
       "  <tbody>\n",
       "    <tr>\n",
       "      <th>0</th>\n",
       "      <td>NaN</td>\n",
       "      <td>1</td>\n",
       "      <td>NaN</td>\n",
       "    </tr>\n",
       "    <tr>\n",
       "      <th>1</th>\n",
       "      <td>NaN</td>\n",
       "      <td>1</td>\n",
       "      <td>NaN</td>\n",
       "    </tr>\n",
       "    <tr>\n",
       "      <th>2</th>\n",
       "      <td>NaN</td>\n",
       "      <td>1</td>\n",
       "      <td>NaN</td>\n",
       "    </tr>\n",
       "    <tr>\n",
       "      <th>3</th>\n",
       "      <td>NaN</td>\n",
       "      <td>1</td>\n",
       "      <td>NaN</td>\n",
       "    </tr>\n",
       "    <tr>\n",
       "      <th>4</th>\n",
       "      <td>NaN</td>\n",
       "      <td>1</td>\n",
       "      <td>NaN</td>\n",
       "    </tr>\n",
       "  </tbody>\n",
       "</table>\n",
       "</div>"
      ],
      "text/plain": [
       "   total  definitive  st_dev\n",
       "0    NaN           1     NaN\n",
       "1    NaN           1     NaN\n",
       "2    NaN           1     NaN\n",
       "3    NaN           1     NaN\n",
       "4    NaN           1     NaN"
      ]
     },
     "execution_count": 8,
     "metadata": {},
     "output_type": "execute_result"
    }
   ],
   "source": [
    "#agora podemos apagar as colunas desnecessárias\n",
    "\n",
    "sunspots = sunspots[['total', 'definitive', 'st_dev']]\n",
    "sunspots.head()"
   ]
  },
  {
   "cell_type": "code",
   "execution_count": 40,
   "metadata": {},
   "outputs": [],
   "source": [
    "#para exportar a tabela limpa em formato csv:\n",
    "\n",
    "path = '/home/jpalma/Documents/datasets/silso_sunspots/sunspots.csv'\n",
    "sunspots.to_csv(path_or_buf = path)"
   ]
  },
  {
   "cell_type": "markdown",
   "metadata": {},
   "source": [
    "# 14/05/2020"
   ]
  },
  {
   "cell_type": "markdown",
   "metadata": {},
   "source": [
    "**Análise de dados exploratória com Pandas**"
   ]
  },
  {
   "cell_type": "code",
   "execution_count": 8,
   "metadata": {},
   "outputs": [
    {
     "data": {
      "text/html": [
       "<div>\n",
       "<style scoped>\n",
       "    .dataframe tbody tr th:only-of-type {\n",
       "        vertical-align: middle;\n",
       "    }\n",
       "\n",
       "    .dataframe tbody tr th {\n",
       "        vertical-align: top;\n",
       "    }\n",
       "\n",
       "    .dataframe thead th {\n",
       "        text-align: right;\n",
       "    }\n",
       "</style>\n",
       "<table border=\"1\" class=\"dataframe\">\n",
       "  <thead>\n",
       "    <tr style=\"text-align: right;\">\n",
       "      <th></th>\n",
       "      <th>total</th>\n",
       "      <th>definitive</th>\n",
       "      <th>st_dev</th>\n",
       "    </tr>\n",
       "    <tr>\n",
       "      <th>date</th>\n",
       "      <th></th>\n",
       "      <th></th>\n",
       "      <th></th>\n",
       "    </tr>\n",
       "  </thead>\n",
       "  <tbody>\n",
       "    <tr>\n",
       "      <th>2020-04-26</th>\n",
       "      <td>14.0</td>\n",
       "      <td>0</td>\n",
       "      <td>1.0</td>\n",
       "    </tr>\n",
       "    <tr>\n",
       "      <th>2020-04-27</th>\n",
       "      <td>29.0</td>\n",
       "      <td>0</td>\n",
       "      <td>2.0</td>\n",
       "    </tr>\n",
       "    <tr>\n",
       "      <th>2020-04-28</th>\n",
       "      <td>15.0</td>\n",
       "      <td>0</td>\n",
       "      <td>2.6</td>\n",
       "    </tr>\n",
       "    <tr>\n",
       "      <th>2020-04-29</th>\n",
       "      <td>24.0</td>\n",
       "      <td>0</td>\n",
       "      <td>1.6</td>\n",
       "    </tr>\n",
       "    <tr>\n",
       "      <th>2020-04-30</th>\n",
       "      <td>20.0</td>\n",
       "      <td>0</td>\n",
       "      <td>1.2</td>\n",
       "    </tr>\n",
       "  </tbody>\n",
       "</table>\n",
       "</div>"
      ],
      "text/plain": [
       "            total  definitive  st_dev\n",
       "date                                 \n",
       "2020-04-26   14.0           0     1.0\n",
       "2020-04-27   29.0           0     2.0\n",
       "2020-04-28   15.0           0     2.6\n",
       "2020-04-29   24.0           0     1.6\n",
       "2020-04-30   20.0           0     1.2"
      ]
     },
     "execution_count": 8,
     "metadata": {},
     "output_type": "execute_result"
    }
   ],
   "source": [
    "import pandas as pd\n",
    "from matplotlib import pyplot as plt\n",
    "\n",
    "sunspots = pd.read_csv(\"/home/jpalma/Documents/datasets/silso_sunspots/sunspots.csv\", \n",
    "                       parse_dates= True,\n",
    "                       index_col = 'date')\n",
    "\n",
    "sunspots.tail()"
   ]
  },
  {
   "cell_type": "code",
   "execution_count": 9,
   "metadata": {},
   "outputs": [],
   "source": [
    "#eliminando NaN's\n",
    "#o argumento subset indica em quais colunas a função deve procurar por valores nulos\n",
    "\n",
    "sunspots = sunspots.dropna(subset=['total'])"
   ]
  },
  {
   "cell_type": "code",
   "execution_count": 10,
   "metadata": {},
   "outputs": [
    {
     "data": {
      "image/png": "[encoded data removed]",
      "text/plain": [
       "<Figure size 432x288 with 1 Axes>"
      ]
     },
     "metadata": {
      "needs_background": "light"
     },
     "output_type": "display_data"
    }
   ],
   "source": [
    "#gráfico de linha (série temporal, no caso)\n",
    "\n",
    "\n",
    "sunspots.loc['2019-01':'2020-04' , 'total'].plot()\n",
    "plt.xticks(rotation=20)\n",
    "plt.show()\n"
   ]
  },
  {
   "cell_type": "code",
   "execution_count": 11,
   "metadata": {},
   "outputs": [
    {
     "data": {
      "image/png": "[encoded data removed]",
      "text/plain": [
       "<Figure size 432x288 with 1 Axes>"
      ]
     },
     "metadata": {
      "needs_background": "light"
     },
     "output_type": "display_data"
    }
   ],
   "source": [
    "sunspots.loc['2020':, 'st_dev'].plot(kind='box')\n",
    "plt.show()"
   ]
  },
  {
   "cell_type": "code",
   "execution_count": 12,
   "metadata": {},
   "outputs": [
    {
     "data": {
      "image/png": "[encoded data removed]",
      "text/plain": [
       "<Figure size 432x288 with 1 Axes>"
      ]
     },
     "metadata": {
      "needs_background": "light"
     },
     "output_type": "display_data"
    }
   ],
   "source": [
    "sunspots.loc['2010':'2020' , 'total'].plot(kind='hist')\n",
    "plt.show()"
   ]
  },
  {
   "cell_type": "markdown",
   "metadata": {},
   "source": [
    "**Estatística com Pandas**"
   ]
  },
  {
   "cell_type": "code",
   "execution_count": 86,
   "metadata": {},
   "outputs": [
    {
     "data": {
      "text/html": [
       "<div>\n",
       "<style scoped>\n",
       "    .dataframe tbody tr th:only-of-type {\n",
       "        vertical-align: middle;\n",
       "    }\n",
       "\n",
       "    .dataframe tbody tr th {\n",
       "        vertical-align: top;\n",
       "    }\n",
       "\n",
       "    .dataframe thead th {\n",
       "        text-align: right;\n",
       "    }\n",
       "</style>\n",
       "<table border=\"1\" class=\"dataframe\">\n",
       "  <thead>\n",
       "    <tr style=\"text-align: right;\">\n",
       "      <th></th>\n",
       "      <th>total</th>\n",
       "      <th>st_dev</th>\n",
       "    </tr>\n",
       "  </thead>\n",
       "  <tbody>\n",
       "    <tr>\n",
       "      <th>count</th>\n",
       "      <td>70653.000000</td>\n",
       "      <td>70653.000000</td>\n",
       "    </tr>\n",
       "    <tr>\n",
       "      <th>mean</th>\n",
       "      <td>82.739190</td>\n",
       "      <td>7.271486</td>\n",
       "    </tr>\n",
       "    <tr>\n",
       "      <th>std</th>\n",
       "      <td>77.260572</td>\n",
       "      <td>4.575786</td>\n",
       "    </tr>\n",
       "    <tr>\n",
       "      <th>min</th>\n",
       "      <td>0.000000</td>\n",
       "      <td>0.000000</td>\n",
       "    </tr>\n",
       "    <tr>\n",
       "      <th>25%</th>\n",
       "      <td>21.000000</td>\n",
       "      <td>3.400000</td>\n",
       "    </tr>\n",
       "    <tr>\n",
       "      <th>50%</th>\n",
       "      <td>63.000000</td>\n",
       "      <td>6.800000</td>\n",
       "    </tr>\n",
       "    <tr>\n",
       "      <th>75%</th>\n",
       "      <td>127.000000</td>\n",
       "      <td>10.200000</td>\n",
       "    </tr>\n",
       "    <tr>\n",
       "      <th>max</th>\n",
       "      <td>528.000000</td>\n",
       "      <td>77.700000</td>\n",
       "    </tr>\n",
       "  </tbody>\n",
       "</table>\n",
       "</div>"
      ],
      "text/plain": [
       "              total        st_dev\n",
       "count  70653.000000  70653.000000\n",
       "mean      82.739190      7.271486\n",
       "std       77.260572      4.575786\n",
       "min        0.000000      0.000000\n",
       "25%       21.000000      3.400000\n",
       "50%       63.000000      6.800000\n",
       "75%      127.000000     10.200000\n",
       "max      528.000000     77.700000"
      ]
     },
     "execution_count": 86,
     "metadata": {},
     "output_type": "execute_result"
    }
   ],
   "source": [
    "sunspots[['total', 'st_dev']].describe()"
   ]
  },
  {
   "cell_type": "markdown",
   "metadata": {},
   "source": [
    "# 16/05/2020"
   ]
  },
  {
   "cell_type": "markdown",
   "metadata": {},
   "source": [
    "**Análise utilizando encadeamento de métodos**"
   ]
  },
  {
   "cell_type": "code",
   "execution_count": 7,
   "metadata": {},
   "outputs": [
    {
     "name": "stdout",
     "output_type": "stream",
     "text": [
      "<class 'pandas.core.frame.DataFrame'>\n",
      "DatetimeIndex: 73900 entries, 1818-01-01 to 2020-04-30\n",
      "Data columns (total 3 columns):\n",
      " #   Column      Non-Null Count  Dtype  \n",
      "---  ------      --------------  -----  \n",
      " 0   total       70653 non-null  float64\n",
      " 1   definitive  73900 non-null  int64  \n",
      " 2   st_dev      70653 non-null  float64\n",
      "dtypes: float64(2), int64(1)\n",
      "memory usage: 2.3 MB\n"
     ]
    }
   ],
   "source": [
    "import pandas as pd\n",
    "from matplotlib import pyplot as plt\n",
    "\n",
    "sunspots = pd.read_csv(\"/home/jpalma/Documents/datasets/silso_sunspots/sunspots.csv\", \n",
    "                       parse_dates = True,\n",
    "                       index_col = 'date')\n",
    "\n",
    "sunspots.info()"
   ]
  },
  {
   "cell_type": "code",
   "execution_count": 15,
   "metadata": {},
   "outputs": [
    {
     "data": {
      "text/plain": [
       "date\n",
       "1818-12-31    52.938967\n",
       "1819-12-31    38.534137\n",
       "1820-12-31    24.232143\n",
       "1821-12-31     9.180921\n",
       "1822-12-31     6.254958\n",
       "                ...    \n",
       "2016-12-31    39.822404\n",
       "2017-12-31    21.739726\n",
       "2018-12-31     6.972603\n",
       "2019-12-31     3.605479\n",
       "2020-12-31     3.429752\n",
       "Freq: A-DEC, Name: total, Length: 203, dtype: float64"
      ]
     },
     "execution_count": 15,
     "metadata": {},
     "output_type": "execute_result"
    }
   ],
   "source": [
    "#Ao método resample deve ser encadeado o cálculo de alguma estatística sumária.\n",
    "#O argumento para o método é uma letra que indique o período a ser resumido \n",
    "#Y por exemplo resumirá os dados por ano, 2Y por dois anos.\n",
    "\n",
    "sunspots['total'].resample('Y').mean()"
   ]
  },
  {
   "cell_type": "code",
   "execution_count": 17,
   "metadata": {},
   "outputs": [
    {
     "name": "stdout",
     "output_type": "stream",
     "text": [
      "<class 'pandas.core.frame.DataFrame'>\n",
      "RangeIndex: 41188 entries, 0 to 41187\n",
      "Data columns (total 21 columns):\n",
      " #   Column          Non-Null Count  Dtype  \n",
      "---  ------          --------------  -----  \n",
      " 0   age             41188 non-null  int64  \n",
      " 1   job             41188 non-null  object \n",
      " 2   marital         41188 non-null  object \n",
      " 3   education       41188 non-null  object \n",
      " 4   default         41188 non-null  object \n",
      " 5   housing         41188 non-null  object \n",
      " 6   loan            41188 non-null  object \n",
      " 7   contact         41188 non-null  object \n",
      " 8   month           41188 non-null  object \n",
      " 9   day_of_week     41188 non-null  object \n",
      " 10  duration        41188 non-null  int64  \n",
      " 11  campaign        41188 non-null  int64  \n",
      " 12  pdays           41188 non-null  int64  \n",
      " 13  previous        41188 non-null  int64  \n",
      " 14  poutcome        41188 non-null  object \n",
      " 15  emp.var.rate    41188 non-null  float64\n",
      " 16  cons.price.idx  41188 non-null  float64\n",
      " 17  cons.conf.idx   41188 non-null  float64\n",
      " 18  euribor3m       41188 non-null  float64\n",
      " 19  nr.employed     41188 non-null  float64\n",
      " 20  y               41188 non-null  object \n",
      "dtypes: float64(5), int64(5), object(11)\n",
      "memory usage: 6.6+ MB\n"
     ]
    }
   ],
   "source": [
    "bank = pd.read_csv('/home/jpalma/Documents/datasets/bank-marketing/bank.csv',\n",
    "                  parse_dates=True, sep=';')\n",
    "\n",
    "bank.info()"
   ]
  },
  {
   "cell_type": "code",
   "execution_count": 28,
   "metadata": {},
   "outputs": [
    {
     "data": {
      "text/plain": [
       "1.5695557174071377"
      ]
     },
     "execution_count": 28,
     "metadata": {},
     "output_type": "execute_result"
    }
   ],
   "source": [
    "#Métodos da familia str aplicam diversas operações com strings em um dataframe\n",
    "#Alguns, como contains() podem ser usados para filtragem.\n",
    "\n",
    "success = bank['poutcome'].str.contains('success')\n",
    "\n",
    "bank.loc[success == True, 'previous'].mean()"
   ]
  },
  {
   "cell_type": "markdown",
   "metadata": {},
   "source": [
    "# 17/05/2020"
   ]
  },
  {
   "cell_type": "markdown",
   "metadata": {},
   "source": [
    "**Tidy Data: funções melt e pivot**"
   ]
  },
  {
   "cell_type": "code",
   "execution_count": 103,
   "metadata": {},
   "outputs": [
    {
     "name": "stdout",
     "output_type": "stream",
     "text": [
      "<class 'pandas.core.frame.DataFrame'>\n",
      "Int64Index: 20 entries, 0 to 19\n",
      "Data columns (total 2 columns):\n",
      " #   Column       Non-Null Count  Dtype  \n",
      "---  ------       --------------  -----  \n",
      " 0   tratamentoA  20 non-null     float64\n",
      " 1   tratamentoB  20 non-null     float64\n",
      "dtypes: float64(2)\n",
      "memory usage: 480.0 bytes\n"
     ]
    }
   ],
   "source": [
    "import pandas as pd\n",
    "from numpy.random import rand, randint\n",
    "\n",
    "tratamentoA = list(rand(20)*randint(1, 100, size = 20))\n",
    "tratamentoB = list(rand(20)*randint(1, 100, size = 20))\n",
    "id_voluntario = list(range(0, 20))\n",
    "\n",
    "dados = pd.DataFrame(data = list(zip(tratamentoA, tratamentoB)), index = id_voluntario, columns=['tratamentoA', 'tratamentoB'])\n",
    "\n",
    "dados.info()"
   ]
  },
  {
   "cell_type": "code",
   "execution_count": 138,
   "metadata": {
    "scrolled": true
   },
   "outputs": [
    {
     "data": {
      "text/html": [
       "<div>\n",
       "<style scoped>\n",
       "    .dataframe tbody tr th:only-of-type {\n",
       "        vertical-align: middle;\n",
       "    }\n",
       "\n",
       "    .dataframe tbody tr th {\n",
       "        vertical-align: top;\n",
       "    }\n",
       "\n",
       "    .dataframe thead th {\n",
       "        text-align: right;\n",
       "    }\n",
       "</style>\n",
       "<table border=\"1\" class=\"dataframe\">\n",
       "  <thead>\n",
       "    <tr style=\"text-align: right;\">\n",
       "      <th></th>\n",
       "      <th>count</th>\n",
       "      <th>variable</th>\n",
       "      <th>value</th>\n",
       "    </tr>\n",
       "  </thead>\n",
       "  <tbody>\n",
       "    <tr>\n",
       "      <th>0</th>\n",
       "      <td>0</td>\n",
       "      <td>tratamentoA</td>\n",
       "      <td>9.025835</td>\n",
       "    </tr>\n",
       "    <tr>\n",
       "      <th>1</th>\n",
       "      <td>1</td>\n",
       "      <td>tratamentoA</td>\n",
       "      <td>10.377356</td>\n",
       "    </tr>\n",
       "    <tr>\n",
       "      <th>2</th>\n",
       "      <td>2</td>\n",
       "      <td>tratamentoA</td>\n",
       "      <td>2.385297</td>\n",
       "    </tr>\n",
       "    <tr>\n",
       "      <th>3</th>\n",
       "      <td>3</td>\n",
       "      <td>tratamentoA</td>\n",
       "      <td>44.033788</td>\n",
       "    </tr>\n",
       "    <tr>\n",
       "      <th>4</th>\n",
       "      <td>4</td>\n",
       "      <td>tratamentoA</td>\n",
       "      <td>32.227542</td>\n",
       "    </tr>\n",
       "    <tr>\n",
       "      <th>5</th>\n",
       "      <td>5</td>\n",
       "      <td>tratamentoA</td>\n",
       "      <td>0.249817</td>\n",
       "    </tr>\n",
       "    <tr>\n",
       "      <th>6</th>\n",
       "      <td>6</td>\n",
       "      <td>tratamentoA</td>\n",
       "      <td>0.948326</td>\n",
       "    </tr>\n",
       "    <tr>\n",
       "      <th>7</th>\n",
       "      <td>7</td>\n",
       "      <td>tratamentoA</td>\n",
       "      <td>7.130413</td>\n",
       "    </tr>\n",
       "    <tr>\n",
       "      <th>8</th>\n",
       "      <td>8</td>\n",
       "      <td>tratamentoA</td>\n",
       "      <td>21.673544</td>\n",
       "    </tr>\n",
       "    <tr>\n",
       "      <th>9</th>\n",
       "      <td>9</td>\n",
       "      <td>tratamentoA</td>\n",
       "      <td>51.147627</td>\n",
       "    </tr>\n",
       "    <tr>\n",
       "      <th>10</th>\n",
       "      <td>10</td>\n",
       "      <td>tratamentoA</td>\n",
       "      <td>58.590090</td>\n",
       "    </tr>\n",
       "    <tr>\n",
       "      <th>11</th>\n",
       "      <td>11</td>\n",
       "      <td>tratamentoA</td>\n",
       "      <td>38.033769</td>\n",
       "    </tr>\n",
       "    <tr>\n",
       "      <th>12</th>\n",
       "      <td>12</td>\n",
       "      <td>tratamentoA</td>\n",
       "      <td>2.253754</td>\n",
       "    </tr>\n",
       "    <tr>\n",
       "      <th>13</th>\n",
       "      <td>13</td>\n",
       "      <td>tratamentoA</td>\n",
       "      <td>14.982179</td>\n",
       "    </tr>\n",
       "    <tr>\n",
       "      <th>14</th>\n",
       "      <td>14</td>\n",
       "      <td>tratamentoA</td>\n",
       "      <td>62.396199</td>\n",
       "    </tr>\n",
       "    <tr>\n",
       "      <th>15</th>\n",
       "      <td>15</td>\n",
       "      <td>tratamentoA</td>\n",
       "      <td>16.579880</td>\n",
       "    </tr>\n",
       "    <tr>\n",
       "      <th>16</th>\n",
       "      <td>16</td>\n",
       "      <td>tratamentoA</td>\n",
       "      <td>51.979242</td>\n",
       "    </tr>\n",
       "    <tr>\n",
       "      <th>17</th>\n",
       "      <td>17</td>\n",
       "      <td>tratamentoA</td>\n",
       "      <td>0.502872</td>\n",
       "    </tr>\n",
       "    <tr>\n",
       "      <th>18</th>\n",
       "      <td>18</td>\n",
       "      <td>tratamentoA</td>\n",
       "      <td>10.135959</td>\n",
       "    </tr>\n",
       "    <tr>\n",
       "      <th>19</th>\n",
       "      <td>19</td>\n",
       "      <td>tratamentoA</td>\n",
       "      <td>56.484402</td>\n",
       "    </tr>\n",
       "    <tr>\n",
       "      <th>20</th>\n",
       "      <td>0</td>\n",
       "      <td>tratamentoB</td>\n",
       "      <td>9.024980</td>\n",
       "    </tr>\n",
       "    <tr>\n",
       "      <th>21</th>\n",
       "      <td>1</td>\n",
       "      <td>tratamentoB</td>\n",
       "      <td>24.218841</td>\n",
       "    </tr>\n",
       "    <tr>\n",
       "      <th>22</th>\n",
       "      <td>2</td>\n",
       "      <td>tratamentoB</td>\n",
       "      <td>3.048160</td>\n",
       "    </tr>\n",
       "    <tr>\n",
       "      <th>23</th>\n",
       "      <td>3</td>\n",
       "      <td>tratamentoB</td>\n",
       "      <td>27.623856</td>\n",
       "    </tr>\n",
       "    <tr>\n",
       "      <th>24</th>\n",
       "      <td>4</td>\n",
       "      <td>tratamentoB</td>\n",
       "      <td>7.482844</td>\n",
       "    </tr>\n",
       "    <tr>\n",
       "      <th>25</th>\n",
       "      <td>5</td>\n",
       "      <td>tratamentoB</td>\n",
       "      <td>11.227751</td>\n",
       "    </tr>\n",
       "    <tr>\n",
       "      <th>26</th>\n",
       "      <td>6</td>\n",
       "      <td>tratamentoB</td>\n",
       "      <td>32.350805</td>\n",
       "    </tr>\n",
       "    <tr>\n",
       "      <th>27</th>\n",
       "      <td>7</td>\n",
       "      <td>tratamentoB</td>\n",
       "      <td>32.593563</td>\n",
       "    </tr>\n",
       "    <tr>\n",
       "      <th>28</th>\n",
       "      <td>8</td>\n",
       "      <td>tratamentoB</td>\n",
       "      <td>65.108737</td>\n",
       "    </tr>\n",
       "    <tr>\n",
       "      <th>29</th>\n",
       "      <td>9</td>\n",
       "      <td>tratamentoB</td>\n",
       "      <td>34.035504</td>\n",
       "    </tr>\n",
       "    <tr>\n",
       "      <th>30</th>\n",
       "      <td>10</td>\n",
       "      <td>tratamentoB</td>\n",
       "      <td>77.067724</td>\n",
       "    </tr>\n",
       "    <tr>\n",
       "      <th>31</th>\n",
       "      <td>11</td>\n",
       "      <td>tratamentoB</td>\n",
       "      <td>56.114866</td>\n",
       "    </tr>\n",
       "    <tr>\n",
       "      <th>32</th>\n",
       "      <td>12</td>\n",
       "      <td>tratamentoB</td>\n",
       "      <td>6.890191</td>\n",
       "    </tr>\n",
       "    <tr>\n",
       "      <th>33</th>\n",
       "      <td>13</td>\n",
       "      <td>tratamentoB</td>\n",
       "      <td>17.819243</td>\n",
       "    </tr>\n",
       "    <tr>\n",
       "      <th>34</th>\n",
       "      <td>14</td>\n",
       "      <td>tratamentoB</td>\n",
       "      <td>20.333205</td>\n",
       "    </tr>\n",
       "    <tr>\n",
       "      <th>35</th>\n",
       "      <td>15</td>\n",
       "      <td>tratamentoB</td>\n",
       "      <td>33.427009</td>\n",
       "    </tr>\n",
       "    <tr>\n",
       "      <th>36</th>\n",
       "      <td>16</td>\n",
       "      <td>tratamentoB</td>\n",
       "      <td>30.603750</td>\n",
       "    </tr>\n",
       "    <tr>\n",
       "      <th>37</th>\n",
       "      <td>17</td>\n",
       "      <td>tratamentoB</td>\n",
       "      <td>32.239127</td>\n",
       "    </tr>\n",
       "    <tr>\n",
       "      <th>38</th>\n",
       "      <td>18</td>\n",
       "      <td>tratamentoB</td>\n",
       "      <td>4.800600</td>\n",
       "    </tr>\n",
       "    <tr>\n",
       "      <th>39</th>\n",
       "      <td>19</td>\n",
       "      <td>tratamentoB</td>\n",
       "      <td>31.481598</td>\n",
       "    </tr>\n",
       "  </tbody>\n",
       "</table>\n",
       "</div>"
      ],
      "text/plain": [
       "    count     variable      value\n",
       "0       0  tratamentoA   9.025835\n",
       "1       1  tratamentoA  10.377356\n",
       "2       2  tratamentoA   2.385297\n",
       "3       3  tratamentoA  44.033788\n",
       "4       4  tratamentoA  32.227542\n",
       "5       5  tratamentoA   0.249817\n",
       "6       6  tratamentoA   0.948326\n",
       "7       7  tratamentoA   7.130413\n",
       "8       8  tratamentoA  21.673544\n",
       "9       9  tratamentoA  51.147627\n",
       "10     10  tratamentoA  58.590090\n",
       "11     11  tratamentoA  38.033769\n",
       "12     12  tratamentoA   2.253754\n",
       "13     13  tratamentoA  14.982179\n",
       "14     14  tratamentoA  62.396199\n",
       "15     15  tratamentoA  16.579880\n",
       "16     16  tratamentoA  51.979242\n",
       "17     17  tratamentoA   0.502872\n",
       "18     18  tratamentoA  10.135959\n",
       "19     19  tratamentoA  56.484402\n",
       "20      0  tratamentoB   9.024980\n",
       "21      1  tratamentoB  24.218841\n",
       "22      2  tratamentoB   3.048160\n",
       "23      3  tratamentoB  27.623856\n",
       "24      4  tratamentoB   7.482844\n",
       "25      5  tratamentoB  11.227751\n",
       "26      6  tratamentoB  32.350805\n",
       "27      7  tratamentoB  32.593563\n",
       "28      8  tratamentoB  65.108737\n",
       "29      9  tratamentoB  34.035504\n",
       "30     10  tratamentoB  77.067724\n",
       "31     11  tratamentoB  56.114866\n",
       "32     12  tratamentoB   6.890191\n",
       "33     13  tratamentoB  17.819243\n",
       "34     14  tratamentoB  20.333205\n",
       "35     15  tratamentoB  33.427009\n",
       "36     16  tratamentoB  30.603750\n",
       "37     17  tratamentoB  32.239127\n",
       "38     18  tratamentoB   4.800600\n",
       "39     19  tratamentoB  31.481598"
      ]
     },
     "execution_count": 138,
     "metadata": {},
     "output_type": "execute_result"
    }
   ],
   "source": [
    "#o método melt transforma colunas em linhas através de uma atribuição chave-valor.\n",
    "\n",
    "dados_melt = dados.melt(value_name='value')\n",
    "\n",
    "#Este cacete é necessário se quiser reverter o processo depois.\n",
    "dados_melt.insert(0, 'count', dados_melt.groupby('variable').cumcount())\n",
    "\n",
    "dados_melt"
   ]
  },
  {
   "cell_type": "code",
   "execution_count": 142,
   "metadata": {},
   "outputs": [
    {
     "data": {
      "text/html": [
       "<div>\n",
       "<style scoped>\n",
       "    .dataframe tbody tr th:only-of-type {\n",
       "        vertical-align: middle;\n",
       "    }\n",
       "\n",
       "    .dataframe tbody tr th {\n",
       "        vertical-align: top;\n",
       "    }\n",
       "\n",
       "    .dataframe thead tr th {\n",
       "        text-align: left;\n",
       "    }\n",
       "\n",
       "    .dataframe thead tr:last-of-type th {\n",
       "        text-align: right;\n",
       "    }\n",
       "</style>\n",
       "<table border=\"1\" class=\"dataframe\">\n",
       "  <thead>\n",
       "    <tr>\n",
       "      <th></th>\n",
       "      <th colspan=\"2\" halign=\"left\">value</th>\n",
       "    </tr>\n",
       "    <tr>\n",
       "      <th>variable</th>\n",
       "      <th>tratamentoA</th>\n",
       "      <th>tratamentoB</th>\n",
       "    </tr>\n",
       "    <tr>\n",
       "      <th>count</th>\n",
       "      <th></th>\n",
       "      <th></th>\n",
       "    </tr>\n",
       "  </thead>\n",
       "  <tbody>\n",
       "    <tr>\n",
       "      <th>0</th>\n",
       "      <td>9.025835</td>\n",
       "      <td>9.024980</td>\n",
       "    </tr>\n",
       "    <tr>\n",
       "      <th>1</th>\n",
       "      <td>10.377356</td>\n",
       "      <td>24.218841</td>\n",
       "    </tr>\n",
       "    <tr>\n",
       "      <th>2</th>\n",
       "      <td>2.385297</td>\n",
       "      <td>3.048160</td>\n",
       "    </tr>\n",
       "    <tr>\n",
       "      <th>3</th>\n",
       "      <td>44.033788</td>\n",
       "      <td>27.623856</td>\n",
       "    </tr>\n",
       "    <tr>\n",
       "      <th>4</th>\n",
       "      <td>32.227542</td>\n",
       "      <td>7.482844</td>\n",
       "    </tr>\n",
       "    <tr>\n",
       "      <th>5</th>\n",
       "      <td>0.249817</td>\n",
       "      <td>11.227751</td>\n",
       "    </tr>\n",
       "    <tr>\n",
       "      <th>6</th>\n",
       "      <td>0.948326</td>\n",
       "      <td>32.350805</td>\n",
       "    </tr>\n",
       "    <tr>\n",
       "      <th>7</th>\n",
       "      <td>7.130413</td>\n",
       "      <td>32.593563</td>\n",
       "    </tr>\n",
       "    <tr>\n",
       "      <th>8</th>\n",
       "      <td>21.673544</td>\n",
       "      <td>65.108737</td>\n",
       "    </tr>\n",
       "    <tr>\n",
       "      <th>9</th>\n",
       "      <td>51.147627</td>\n",
       "      <td>34.035504</td>\n",
       "    </tr>\n",
       "    <tr>\n",
       "      <th>10</th>\n",
       "      <td>58.590090</td>\n",
       "      <td>77.067724</td>\n",
       "    </tr>\n",
       "    <tr>\n",
       "      <th>11</th>\n",
       "      <td>38.033769</td>\n",
       "      <td>56.114866</td>\n",
       "    </tr>\n",
       "    <tr>\n",
       "      <th>12</th>\n",
       "      <td>2.253754</td>\n",
       "      <td>6.890191</td>\n",
       "    </tr>\n",
       "    <tr>\n",
       "      <th>13</th>\n",
       "      <td>14.982179</td>\n",
       "      <td>17.819243</td>\n",
       "    </tr>\n",
       "    <tr>\n",
       "      <th>14</th>\n",
       "      <td>62.396199</td>\n",
       "      <td>20.333205</td>\n",
       "    </tr>\n",
       "    <tr>\n",
       "      <th>15</th>\n",
       "      <td>16.579880</td>\n",
       "      <td>33.427009</td>\n",
       "    </tr>\n",
       "    <tr>\n",
       "      <th>16</th>\n",
       "      <td>51.979242</td>\n",
       "      <td>30.603750</td>\n",
       "    </tr>\n",
       "    <tr>\n",
       "      <th>17</th>\n",
       "      <td>0.502872</td>\n",
       "      <td>32.239127</td>\n",
       "    </tr>\n",
       "    <tr>\n",
       "      <th>18</th>\n",
       "      <td>10.135959</td>\n",
       "      <td>4.800600</td>\n",
       "    </tr>\n",
       "    <tr>\n",
       "      <th>19</th>\n",
       "      <td>56.484402</td>\n",
       "      <td>31.481598</td>\n",
       "    </tr>\n",
       "  </tbody>\n",
       "</table>\n",
       "</div>"
      ],
      "text/plain": [
       "               value            \n",
       "variable tratamentoA tratamentoB\n",
       "count                           \n",
       "0           9.025835    9.024980\n",
       "1          10.377356   24.218841\n",
       "2           2.385297    3.048160\n",
       "3          44.033788   27.623856\n",
       "4          32.227542    7.482844\n",
       "5           0.249817   11.227751\n",
       "6           0.948326   32.350805\n",
       "7           7.130413   32.593563\n",
       "8          21.673544   65.108737\n",
       "9          51.147627   34.035504\n",
       "10         58.590090   77.067724\n",
       "11         38.033769   56.114866\n",
       "12          2.253754    6.890191\n",
       "13         14.982179   17.819243\n",
       "14         62.396199   20.333205\n",
       "15         16.579880   33.427009\n",
       "16         51.979242   30.603750\n",
       "17          0.502872   32.239127\n",
       "18         10.135959    4.800600\n",
       "19         56.484402   31.481598"
      ]
     },
     "execution_count": 142,
     "metadata": {},
     "output_type": "execute_result"
    }
   ],
   "source": [
    "#pivot() executa o processo inverso\n",
    "#nesse caso, o contador será o indexador, para evitar que ele retorne um dataframe com 40 colunas\n",
    "\n",
    "dados_pivot = dados_melt.pivot(index='count',columns='variable')\n",
    "dados_pivot"
   ]
  },
  {
   "cell_type": "markdown",
   "metadata": {},
   "source": [
    "# 18/05/2020"
   ]
  },
  {
   "cell_type": "markdown",
   "metadata": {},
   "source": [
    "**separar valores de uma coluna em duas**"
   ]
  },
  {
   "cell_type": "code",
   "execution_count": 4,
   "metadata": {},
   "outputs": [
    {
     "data": {
      "text/html": [
       "<div>\n",
       "<style scoped>\n",
       "    .dataframe tbody tr th:only-of-type {\n",
       "        vertical-align: middle;\n",
       "    }\n",
       "\n",
       "    .dataframe tbody tr th {\n",
       "        vertical-align: top;\n",
       "    }\n",
       "\n",
       "    .dataframe thead th {\n",
       "        text-align: right;\n",
       "    }\n",
       "</style>\n",
       "<table border=\"1\" class=\"dataframe\">\n",
       "  <thead>\n",
       "    <tr style=\"text-align: right;\">\n",
       "      <th></th>\n",
       "      <th>age</th>\n",
       "      <th>job</th>\n",
       "      <th>marital</th>\n",
       "      <th>education</th>\n",
       "      <th>default</th>\n",
       "      <th>housing</th>\n",
       "      <th>loan</th>\n",
       "      <th>contact</th>\n",
       "      <th>month</th>\n",
       "      <th>day_of_week</th>\n",
       "      <th>...</th>\n",
       "      <th>campaign</th>\n",
       "      <th>pdays</th>\n",
       "      <th>previous</th>\n",
       "      <th>poutcome</th>\n",
       "      <th>emp.var.rate</th>\n",
       "      <th>cons.price.idx</th>\n",
       "      <th>cons.conf.idx</th>\n",
       "      <th>euribor3m</th>\n",
       "      <th>nr.employed</th>\n",
       "      <th>y</th>\n",
       "    </tr>\n",
       "  </thead>\n",
       "  <tbody>\n",
       "    <tr>\n",
       "      <th>0</th>\n",
       "      <td>56</td>\n",
       "      <td>housemaid</td>\n",
       "      <td>married</td>\n",
       "      <td>basic.4y</td>\n",
       "      <td>no</td>\n",
       "      <td>no</td>\n",
       "      <td>no</td>\n",
       "      <td>telephone</td>\n",
       "      <td>may</td>\n",
       "      <td>mon</td>\n",
       "      <td>...</td>\n",
       "      <td>1</td>\n",
       "      <td>999</td>\n",
       "      <td>0</td>\n",
       "      <td>nonexistent</td>\n",
       "      <td>1.1</td>\n",
       "      <td>93.994</td>\n",
       "      <td>-36.4</td>\n",
       "      <td>4.857</td>\n",
       "      <td>5191.0</td>\n",
       "      <td>no</td>\n",
       "    </tr>\n",
       "    <tr>\n",
       "      <th>1</th>\n",
       "      <td>57</td>\n",
       "      <td>services</td>\n",
       "      <td>married</td>\n",
       "      <td>high.school</td>\n",
       "      <td>unknown</td>\n",
       "      <td>no</td>\n",
       "      <td>no</td>\n",
       "      <td>telephone</td>\n",
       "      <td>may</td>\n",
       "      <td>mon</td>\n",
       "      <td>...</td>\n",
       "      <td>1</td>\n",
       "      <td>999</td>\n",
       "      <td>0</td>\n",
       "      <td>nonexistent</td>\n",
       "      <td>1.1</td>\n",
       "      <td>93.994</td>\n",
       "      <td>-36.4</td>\n",
       "      <td>4.857</td>\n",
       "      <td>5191.0</td>\n",
       "      <td>no</td>\n",
       "    </tr>\n",
       "    <tr>\n",
       "      <th>2</th>\n",
       "      <td>37</td>\n",
       "      <td>services</td>\n",
       "      <td>married</td>\n",
       "      <td>high.school</td>\n",
       "      <td>no</td>\n",
       "      <td>yes</td>\n",
       "      <td>no</td>\n",
       "      <td>telephone</td>\n",
       "      <td>may</td>\n",
       "      <td>mon</td>\n",
       "      <td>...</td>\n",
       "      <td>1</td>\n",
       "      <td>999</td>\n",
       "      <td>0</td>\n",
       "      <td>nonexistent</td>\n",
       "      <td>1.1</td>\n",
       "      <td>93.994</td>\n",
       "      <td>-36.4</td>\n",
       "      <td>4.857</td>\n",
       "      <td>5191.0</td>\n",
       "      <td>no</td>\n",
       "    </tr>\n",
       "    <tr>\n",
       "      <th>3</th>\n",
       "      <td>40</td>\n",
       "      <td>admin.</td>\n",
       "      <td>married</td>\n",
       "      <td>basic.6y</td>\n",
       "      <td>no</td>\n",
       "      <td>no</td>\n",
       "      <td>no</td>\n",
       "      <td>telephone</td>\n",
       "      <td>may</td>\n",
       "      <td>mon</td>\n",
       "      <td>...</td>\n",
       "      <td>1</td>\n",
       "      <td>999</td>\n",
       "      <td>0</td>\n",
       "      <td>nonexistent</td>\n",
       "      <td>1.1</td>\n",
       "      <td>93.994</td>\n",
       "      <td>-36.4</td>\n",
       "      <td>4.857</td>\n",
       "      <td>5191.0</td>\n",
       "      <td>no</td>\n",
       "    </tr>\n",
       "    <tr>\n",
       "      <th>4</th>\n",
       "      <td>56</td>\n",
       "      <td>services</td>\n",
       "      <td>married</td>\n",
       "      <td>high.school</td>\n",
       "      <td>no</td>\n",
       "      <td>no</td>\n",
       "      <td>yes</td>\n",
       "      <td>telephone</td>\n",
       "      <td>may</td>\n",
       "      <td>mon</td>\n",
       "      <td>...</td>\n",
       "      <td>1</td>\n",
       "      <td>999</td>\n",
       "      <td>0</td>\n",
       "      <td>nonexistent</td>\n",
       "      <td>1.1</td>\n",
       "      <td>93.994</td>\n",
       "      <td>-36.4</td>\n",
       "      <td>4.857</td>\n",
       "      <td>5191.0</td>\n",
       "      <td>no</td>\n",
       "    </tr>\n",
       "  </tbody>\n",
       "</table>\n",
       "<p>5 rows × 21 columns</p>\n",
       "</div>"
      ],
      "text/plain": [
       "   age        job  marital    education  default housing loan    contact  \\\n",
       "0   56  housemaid  married     basic.4y       no      no   no  telephone   \n",
       "1   57   services  married  high.school  unknown      no   no  telephone   \n",
       "2   37   services  married  high.school       no     yes   no  telephone   \n",
       "3   40     admin.  married     basic.6y       no      no   no  telephone   \n",
       "4   56   services  married  high.school       no      no  yes  telephone   \n",
       "\n",
       "  month day_of_week  ...  campaign  pdays  previous     poutcome emp.var.rate  \\\n",
       "0   may         mon  ...         1    999         0  nonexistent          1.1   \n",
       "1   may         mon  ...         1    999         0  nonexistent          1.1   \n",
       "2   may         mon  ...         1    999         0  nonexistent          1.1   \n",
       "3   may         mon  ...         1    999         0  nonexistent          1.1   \n",
       "4   may         mon  ...         1    999         0  nonexistent          1.1   \n",
       "\n",
       "   cons.price.idx  cons.conf.idx  euribor3m  nr.employed   y  \n",
       "0          93.994          -36.4      4.857       5191.0  no  \n",
       "1          93.994          -36.4      4.857       5191.0  no  \n",
       "2          93.994          -36.4      4.857       5191.0  no  \n",
       "3          93.994          -36.4      4.857       5191.0  no  \n",
       "4          93.994          -36.4      4.857       5191.0  no  \n",
       "\n",
       "[5 rows x 21 columns]"
      ]
     },
     "execution_count": 4,
     "metadata": {},
     "output_type": "execute_result"
    }
   ],
   "source": [
    "import pandas as pd\n",
    "\n",
    "bank = pd.read_csv('/home/jpalma/Documents/datasets/bank-marketing/bank.csv',\n",
    "                  parse_dates=True, sep=';')\n",
    "\n",
    "bank.head()"
   ]
  },
  {
   "cell_type": "code",
   "execution_count": 9,
   "metadata": {},
   "outputs": [
    {
     "data": {
      "text/plain": [
       "0    n\n",
       "1    n\n",
       "2    y\n",
       "3    n\n",
       "4    n\n",
       "Name: housing, dtype: object"
      ]
     },
     "execution_count": 9,
     "metadata": {},
     "output_type": "execute_result"
    }
   ],
   "source": [
    "#um método para, digamos, simplificar uma coluna de 'yes' e 'no' como 'y' e 'n': \n",
    "\n",
    "bank['housing'] = bank['housing'].str[0]\n",
    "\n",
    "bank['housing'].head()"
   ]
  },
  {
   "cell_type": "code",
   "execution_count": 12,
   "metadata": {
    "scrolled": true
   },
   "outputs": [
    {
     "data": {
      "text/plain": [
       "0    basic\n",
       "1     high\n",
       "2     high\n",
       "3    basic\n",
       "4     high\n",
       "Name: education_simplified, dtype: object"
      ]
     },
     "execution_count": 12,
     "metadata": {},
     "output_type": "execute_result"
    }
   ],
   "source": [
    "#se em vez disso se deseja utilizar um separador para dividir os valores de uma coluna,\n",
    "#a combinação dos métodos split() e get() é uma alternativa. \n",
    "\n",
    "bank['education_simplified'] = bank['education'].str.split('.').str.get(0)\n",
    "\n",
    "bank['education_simplified'].head()"
   ]
  },
  {
   "cell_type": "markdown",
   "metadata": {},
   "source": [
    "# Desafios Codewars"
   ]
  },
  {
   "cell_type": "markdown",
   "metadata": {},
   "source": [
    "**Your Order, please** 8kyu\n",
    "\n",
    "Your task is to sort a given string. Each word in the string will contain a single number. This number is the position the word should have in the result.\n",
    "\n",
    "Note: Numbers can be from 1 to 9. So 1 will be the first word (not 0).\n",
    "\n",
    "If the input string is empty, return an empty string. The words in the input String will only contain valid consecutive numbers."
   ]
  },
  {
   "cell_type": "code",
   "execution_count": 30,
   "metadata": {},
   "outputs": [
    {
     "name": "stdout",
     "output_type": "stream",
     "text": [
      "1\n",
      "['Thi1s']\n",
      "2\n",
      "['Thi1s', 'is2']\n",
      "3\n",
      "['Thi1s', 'is2', '3a']\n",
      "4\n",
      "['Thi1s', 'is2', '3a', 'T4est']\n",
      "5\n",
      "6\n",
      "7\n",
      "8\n"
     ]
    },
    {
     "data": {
      "text/plain": [
       "['Thi1s', 'is2', '3a', 'T4est']"
      ]
     },
     "execution_count": 30,
     "metadata": {},
     "output_type": "execute_result"
    }
   ],
   "source": [
    "#Minha solução\n",
    "\n",
    "string = \"is2 Thi1s T4est 3a\"\n",
    "a = string.split()\n",
    "ordered = []\n",
    "\n",
    "def order(sentence):\n",
    "    if sentence is not None:\n",
    "        words = sentence.split()\n",
    "        ordered = []\n",
    "        \n",
    "        for x in range (1,10):       \n",
    "            for i in range(0, len(words)):\n",
    "                if words[i].find(str(x)) != -1:\n",
    "                    ordered.append(words[i])\n",
    "                    \n",
    "        output = ' '\n",
    "        output = output.join(ordered)\n",
    "        \n",
    "    else:\n",
    "        ordered = ''\n",
    "        \n",
    "    return output\n",
    "\n",
    "#Solução mais votada\n",
    "\n",
    "def order(sentence):\n",
    "    return \" \".join(sorted(sentence.split(), key=lambda x: list(filter(lambda y: y.isdigit(), x))))"
   ]
  },
  {
   "cell_type": "markdown",
   "metadata": {},
   "source": [
    "**Dollars and Cents** \n",
    "8kyu\n",
    "\n",
    "The company you work for has just been awarded a contract to build a payment gateway. In order to help move things along, you have volunteered to create a function that will take a float and return the amount formatting in dollars and cents.\n",
    "\n",
    "39.99 becomes $39.99\n",
    "\n",
    "The rest of your team will make sure that the argument is sanitized before being passed to your function although you will need to account for adding trailing zeros if they are missing (though you won't have to worry about a dangling period).\n",
    "\n",
    "Examples:\n",
    "\n",
    "3 needs to become $3.00\n",
    "\n",
    "3.1 needs to become $3.10"
   ]
  },
  {
   "cell_type": "code",
   "execution_count": 70,
   "metadata": {},
   "outputs": [
    {
     "data": {
      "text/plain": [
       "'$23455.00'"
      ]
     },
     "execution_count": 70,
     "metadata": {},
     "output_type": "execute_result"
    }
   ],
   "source": [
    "amount = 23455\n",
    "\n",
    "#minha solução\n",
    "\n",
    "def format_money(amount):\n",
    "    return \"$\" + str(amount) + \".00\" if len(str(amount).split(\".\")) == 1 else \"$\" + str(amount) + \"0\" if len(str(amount).split(\".\")[1]) == 1 else \"$\" + amount\n",
    "\n",
    "#solução mais votada \n",
    "\n",
    "def format_money(amount):\n",
    "    return '${:.2f}'.format(amount)\n"
   ]
  }
 ],
 "metadata": {
  "kernelspec": {
   "display_name": "Python 3",
   "language": "python",
   "name": "python3"
  },
  "language_info": {
   "codemirror_mode": {
    "name": "ipython",
    "version": 3
   },
   "file_extension": ".py",
   "mimetype": "text/x-python",
   "name": "python",
   "nbconvert_exporter": "python",
   "pygments_lexer": "ipython3",
   "version": "3.7.6"
  }
 },
 "nbformat": 4,
 "nbformat_minor": 2
}
